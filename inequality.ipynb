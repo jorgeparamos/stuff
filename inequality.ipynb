{
 "cells": [
  {
   "cell_type": "code",
   "execution_count": null,
   "metadata": {},
   "outputs": [
    {
     "data": {
      "application/vnd.plotly.v1+json": {
       "config": {
        "plotlyServerURL": "https://plot.ly"
       },
       "data": [
        {
         "hovertemplate": "Year: %{text}<br>gdp: %{x:.1f} k$<br>Gini: %{y:.2f}",
         "line": {
          "shape": "spline",
          "smoothing": 0.1
         },
         "marker": {
          "angleref": "previous",
          "size": 12,
          "symbol": "arrow-bar-up"
         },
         "mode": "lines+markers+text",
         "name": "Albania",
         "text": [
          1996,
          2002,
          2005,
          2008,
          2012,
          2014,
          2015,
          2016,
          2017,
          2018,
          2019,
          2020
         ],
         "textposition": "top center",
         "type": "scatter",
         "visible": "legendonly",
         "x": [
          4.9089565,
          6.753914,
          8.0401206,
          9.912197,
          11.228005,
          11.586874,
          11.878495000000001,
          12.291902,
          12.771054,
          13.317185,
          13.653249,
          13.278435
         ],
         "y": [
          0.27010342,
          0.3173898,
          0.30595654,
          0.2998467,
          0.28960484,
          0.34598896,
          0.32753733,
          0.33736297,
          0.33055663,
          0.30148283,
          0.30115768,
          0.2941963
         ]
        },
        {
         "hovertemplate": "Year: %{text}<br>gdp: %{x:.1f} k$<br>Gini: %{y:.2f}",
         "line": {
          "shape": "spline",
          "smoothing": 0.1
         },
         "marker": {
          "angleref": "previous",
          "size": 12,
          "symbol": "arrow-bar-up"
         },
         "mode": "lines+markers+text",
         "name": "Algeria",
         "text": [
          1995,
          2011
         ],
         "textposition": "top center",
         "type": "scatter",
         "visible": "legendonly",
         "x": [
          8.013123499999999,
          11.113968999999999
         ],
         "y": [
          0.35330054,
          0.27615732
         ]
        },
        {
         "hovertemplate": "Year: %{text}<br>gdp: %{x:.1f} k$<br>Gini: %{y:.2f}",
         "line": {
          "shape": "spline",
          "smoothing": 0.1
         },
         "marker": {
          "angleref": "previous",
          "size": 12,
          "symbol": "arrow-bar-up"
         },
         "mode": "lines+markers+text",
         "name": "Angola",
         "text": [
          2000,
          2008,
          2018
         ],
         "textposition": "top center",
         "type": "scatter",
         "visible": "legendonly",
         "x": [
          4.7283745,
          7.8661845999999995,
          6.87859
         ],
         "y": [
          0.5194472,
          0.42715514,
          0.51263994
         ]
        },
        {
         "hovertemplate": "Year: %{text}<br>gdp: %{x:.1f} k$<br>Gini: %{y:.2f}",
         "line": {
          "shape": "spline",
          "smoothing": 0.1
         },
         "marker": {
          "angleref": "previous",
          "size": 12,
          "symbol": "arrow-bar-up"
         },
         "mode": "lines+markers+text",
         "name": "Armenia",
         "text": [
          1999,
          2001,
          2002,
          2003,
          2004,
          2005,
          2006,
          2007,
          2008,
          2009,
          2010,
          2011,
          2012,
          2013,
          2014,
          2015,
          2016,
          2017,
          2018,
          2019,
          2020,
          2021,
          2022
         ],
         "textposition": "top center",
         "type": "scatter",
         "visible": "legendonly",
         "x": [
          3.6600342,
          4.3469077,
          4.965224,
          5.6987783,
          6.334855999999999,
          7.2592039999999995,
          8.273786,
          9.476472,
          10.201559999999999,
          8.819678,
          9.068788,
          9.551158,
          10.289976000000001,
          10.677304,
          11.105531999999998,
          11.506039000000001,
          11.580384,
          12.50964,
          13.231431,
          14.317553,
          13.357697,
          14.206545,
          16.057007
         ],
         "y": [
          0.36219725,
          0.3536436,
          0.34779674,
          0.33028087,
          0.37505633,
          0.35992354,
          0.29709986,
          0.31226057,
          0.2918814,
          0.2801588,
          0.29992583,
          0.29352945,
          0.29602262,
          0.30579662,
          0.3148329,
          0.32356772,
          0.32547948,
          0.3362184,
          0.344335,
          0.30031213,
          0.25131604,
          0.2794013,
          0.27945295
         ]
        },
        {
         "hovertemplate": "Year: %{text}<br>gdp: %{x:.1f} k$<br>Gini: %{y:.2f}",
         "line": {
          "shape": "spline",
          "smoothing": 0.1
         },
         "marker": {
          "angleref": "previous",
          "size": 12,
          "symbol": "arrow-bar-up"
         },
         "mode": "lines+markers+text",
         "name": "Australia",
         "text": [
          1995,
          2001,
          2003,
          2004,
          2008,
          2010,
          2014,
          2016,
          2018
         ],
         "textposition": "top center",
         "type": "scatter",
         "visible": "legendonly",
         "x": [
          32.927332,
          38.69057,
          40.535668,
          41.79872,
          44.67514,
          44.881324,
          47.193169999999995,
          48.107065999999996,
          49.085934
         ],
         "y": [
          0.3257863,
          0.33462042,
          0.3349686,
          0.3305577,
          0.3542851,
          0.34656727,
          0.34398198,
          0.33685225,
          0.34332561
         ]
        },
        {
         "hovertemplate": "Year: %{text}<br>gdp: %{x:.1f} k$<br>Gini: %{y:.2f}",
         "line": {
          "shape": "spline",
          "smoothing": 0.1
         },
         "marker": {
          "angleref": "previous",
          "size": 12,
          "symbol": "arrow-bar-up"
         },
         "mode": "lines+markers+text",
         "name": "Austria",
         "text": [
          1994,
          1995,
          1996,
          1997,
          1998,
          1999,
          2000,
          2003,
          2004,
          2005,
          2006,
          2007,
          2008,
          2009,
          2010,
          2011,
          2012,
          2013,
          2014,
          2015,
          2016,
          2017,
          2018,
          2019,
          2020,
          2021
         ],
         "textposition": "top center",
         "type": "scatter",
         "visible": "legendonly",
         "x": [
          39.43521,
          40.425394999999995,
          41.319375,
          42.136663999999996,
          43.59789,
          45.060617,
          46.46986,
          47.633112999999994,
          48.633273,
          49.387027,
          50.840695,
          52.565074,
          53.166055,
          51.030727,
          51.84343,
          53.17915,
          53.297444999999996,
          52.997754,
          52.932900000000004,
          52.87386,
          53.345742,
          54.17299,
          55.217285000000004,
          55.769684,
          51.85475,
          53.817305
         ],
         "y": [
          0.3082802,
          0.29914328,
          0.29317808,
          0.29065368,
          0.31340772,
          0.2967054,
          0.28964692,
          0.29465577,
          0.29788825,
          0.28715184,
          0.29587558,
          0.30579385,
          0.30437064,
          0.31494802,
          0.3025161,
          0.30801,
          0.30475533,
          0.30752888,
          0.3053535,
          0.30530685,
          0.3079501,
          0.2973688,
          0.30847305,
          0.3021043,
          0.29800606,
          0.30701602
         ]
        },
        {
         "hovertemplate": "Year: %{text}<br>gdp: %{x:.1f} k$<br>Gini: %{y:.2f}",
         "line": {
          "shape": "spline",
          "smoothing": 0.1
         },
         "marker": {
          "angleref": "previous",
          "size": 12,
          "symbol": "arrow-bar-up"
         },
         "mode": "lines+markers+text",
         "name": "Azerbaijan",
         "text": [
          1995,
          2001,
          2002,
          2003,
          2004,
          2005
         ],
         "textposition": "top center",
         "type": "scatter",
         "visible": "legendonly",
         "x": [
          2.976995,
          4.3604595,
          4.7365645,
          5.1806865,
          5.6107629999999995,
          7.106598
         ],
         "y": [
          0.3464838,
          0.36454937,
          0.25277665,
          0.2683288,
          0.26621592,
          0.26554906
         ]
        },
        {
         "hovertemplate": "Year: %{text}<br>gdp: %{x:.1f} k$<br>Gini: %{y:.2f}",
         "line": {
          "shape": "spline",
          "smoothing": 0.1
         },
         "marker": {
          "angleref": "previous",
          "size": 12,
          "symbol": "arrow-bar-up"
         },
         "mode": "lines+markers+text",
         "name": "Bangladesh",
         "text": [
          1991,
          1995,
          2000,
          2005,
          2010,
          2016,
          2022
         ],
         "textposition": "top center",
         "type": "scatter",
         "visible": "legendonly",
         "x": [
          1.7563326,
          1.9640612000000002,
          2.2670754,
          2.6630962,
          3.3953647,
          4.5890938,
          6.2630044
         ],
         "y": [
          0.27570805,
          0.32942984,
          0.33406532,
          0.33201292,
          0.32130313,
          0.32385272,
          0.33373156
         ]
        },
        {
         "hovertemplate": "Year: %{text}<br>gdp: %{x:.1f} k$<br>Gini: %{y:.2f}",
         "line": {
          "shape": "spline",
          "smoothing": 0.1
         },
         "marker": {
          "angleref": "previous",
          "size": 12,
          "symbol": "arrow-bar-up"
         },
         "mode": "lines+markers+text",
         "name": "Belarus",
         "text": [
          1998,
          1999,
          2000,
          2001,
          2002,
          2003,
          2004,
          2005,
          2006,
          2007,
          2008,
          2009,
          2010,
          2011,
          2012,
          2013,
          2014,
          2015,
          2016,
          2017,
          2018,
          2019,
          2020
         ],
         "textposition": "top center",
         "type": "scatter",
         "visible": "legendonly",
         "x": [
          7.2939077,
          7.575918,
          8.053173300000001,
          8.477084000000001,
          8.961641,
          9.660193,
          10.839956,
          11.940185999999999,
          13.214870999999999,
          14.417352999999999,
          15.942896000000001,
          16.014114,
          17.300703000000002,
          18.27402,
          18.611453,
          18.80543,
          19.119312,
          18.362695,
          17.88319,
          18.356066,
          18.974746,
          19.288041,
          19.239553
         ],
         "y": [
          0.3201835,
          0.31738147,
          0.31167483,
          0.30576724,
          0.30336243,
          0.28821012,
          0.26479885,
          0.2755341,
          0.28275442,
          0.2961238,
          0.27826044,
          0.27689305,
          0.285666,
          0.2715255,
          0.26526198,
          0.26575053,
          0.27176666,
          0.25633225,
          0.25306615,
          0.2544457,
          0.25240526,
          0.25277847,
          0.24383356
         ]
        },
        {
         "hovertemplate": "Year: %{text}<br>gdp: %{x:.1f} k$<br>Gini: %{y:.2f}",
         "line": {
          "shape": "spline",
          "smoothing": 0.1
         },
         "marker": {
          "angleref": "previous",
          "size": 12,
          "symbol": "arrow-bar-up"
         },
         "mode": "lines+markers+text",
         "name": "Belgium",
         "text": [
          1992,
          1995,
          1997,
          2000,
          2003,
          2004,
          2005,
          2006,
          2007,
          2008,
          2009,
          2010,
          2011,
          2012,
          2013,
          2014,
          2015,
          2016,
          2017,
          2018,
          2019,
          2020,
          2021
         ],
         "textposition": "top center",
         "type": "scatter",
         "visible": "legendonly",
         "x": [
          36.426992,
          37.784150000000004,
          39.56237,
          43.02414,
          44.16091,
          45.54047,
          46.342188,
          47.21258,
          48.590402000000005,
          48.423516000000006,
          47.06479,
          47.972559999999994,
          48.15487,
          48.210926,
          48.204586000000006,
          48.74862,
          49.4564,
          49.829926,
          50.44226999999999,
          51.11348,
          51.97717,
          49.030992,
          52.174906
         ],
         "y": [
          0.2494629,
          0.28410766,
          0.2683214,
          0.33135915,
          0.28143317,
          0.30541426,
          0.29336902,
          0.28054035,
          0.29237667,
          0.28373718,
          0.28551185,
          0.28374815,
          0.2806043,
          0.27490476,
          0.27668843,
          0.28134006,
          0.27729303,
          0.2758073,
          0.27387637,
          0.2721419,
          0.27219546,
          0.2595828,
          0.2657763
         ]
        },
        {
         "hovertemplate": "Year: %{text}<br>gdp: %{x:.1f} k$<br>Gini: %{y:.2f}",
         "line": {
          "shape": "spline",
          "smoothing": 0.1
         },
         "marker": {
          "angleref": "previous",
          "size": 12,
          "symbol": "arrow-bar-up"
         },
         "mode": "lines+markers+text",
         "name": "Belize",
         "text": [
          1993,
          1994,
          1996,
          1997,
          1998,
          1999
         ],
         "textposition": "top center",
         "type": "scatter",
         "visible": "legendonly",
         "x": [
          7.9135415,
          7.7429272000000005,
          7.456467,
          7.511722,
          7.533846,
          7.9665654
         ],
         "y": [
          0.6022769,
          0.60867983,
          0.5654803,
          0.6035009,
          0.54866445,
          0.5323102
         ]
        },
        {
         "hovertemplate": "Year: %{text}<br>gdp: %{x:.1f} k$<br>Gini: %{y:.2f}",
         "line": {
          "shape": "spline",
          "smoothing": 0.1
         },
         "marker": {
          "angleref": "previous",
          "size": 12,
          "symbol": "arrow-bar-up"
         },
         "mode": "lines+markers+text",
         "name": "Benin",
         "text": [
          2003,
          2011,
          2015,
          2018,
          2021
         ],
         "textposition": "top center",
         "type": "scatter",
         "visible": "legendonly",
         "x": [
          2.5329983,
          2.633939,
          2.8498202999999998,
          3.0401672,
          3.321552
         ],
         "y": [
          0.3857762,
          0.43439555,
          0.4762964,
          0.37948644,
          0.34395808
         ]
        },
        {
         "hovertemplate": "Year: %{text}<br>gdp: %{x:.1f} k$<br>Gini: %{y:.2f}",
         "line": {
          "shape": "spline",
          "smoothing": 0.1
         },
         "marker": {
          "angleref": "previous",
          "size": 12,
          "symbol": "arrow-bar-up"
         },
         "mode": "lines+markers+text",
         "name": "Bhutan",
         "text": [
          2003,
          2007,
          2012,
          2017
         ],
         "textposition": "top center",
         "type": "scatter",
         "visible": "legendonly",
         "x": [
          5.1867124,
          6.9558916,
          9.346083,
          11.619064
         ],
         "y": [
          0.40898,
          0.3809077,
          0.38809326,
          0.3744141
         ]
        },
        {
         "hovertemplate": "Year: %{text}<br>gdp: %{x:.1f} k$<br>Gini: %{y:.2f}",
         "line": {
          "shape": "spline",
          "smoothing": 0.1
         },
         "marker": {
          "angleref": "previous",
          "size": 12,
          "symbol": "arrow-bar-up"
         },
         "mode": "lines+markers+text",
         "name": "Bolivia",
         "text": [
          1997,
          1999,
          2000,
          2001,
          2002,
          2004,
          2005,
          2006,
          2007,
          2008,
          2009,
          2011,
          2012,
          2013,
          2014,
          2015,
          2016,
          2017,
          2018,
          2019,
          2020,
          2021
         ],
         "textposition": "top center",
         "type": "scatter",
         "visible": "legendonly",
         "x": [
          5.1814165,
          5.2700273,
          5.305619,
          5.300314500000001,
          5.3377656,
          5.515656,
          5.6605747,
          5.829371,
          5.9896899999999995,
          6.248934,
          6.3490079999999995,
          6.7243010000000005,
          6.9527383,
          7.3052280000000005,
          7.5815986,
          7.8257666,
          8.034173,
          8.244933999999999,
          8.466293,
          8.528749,
          7.679933,
          8.0526
         ],
         "y": [
          0.5814129,
          0.5803485,
          0.61563873,
          0.57366186,
          0.59274095,
          0.5500019,
          0.58518255,
          0.56660104,
          0.5453242,
          0.50814897,
          0.4922026,
          0.46080348,
          0.46579948,
          0.47588572,
          0.47829148,
          0.46731615,
          0.45240772,
          0.4461778,
          0.4257908,
          0.416443,
          0.4364544,
          0.40913323
         ]
        },
        {
         "hovertemplate": "Year: %{text}<br>gdp: %{x:.1f} k$<br>Gini: %{y:.2f}",
         "line": {
          "shape": "spline",
          "smoothing": 0.1
         },
         "marker": {
          "angleref": "previous",
          "size": 12,
          "symbol": "arrow-bar-up"
         },
         "mode": "lines+markers+text",
         "name": "Bosnia and Herzegovina",
         "text": [
          2001,
          2004,
          2007,
          2011
         ],
         "textposition": "top center",
         "type": "scatter",
         "visible": "legendonly",
         "x": [
          6.9654926999999995,
          8.180765599999999,
          9.803973,
          10.933108
         ],
         "y": [
          0.2996643,
          0.3403749,
          0.33061588,
          0.33030185
         ]
        },
        {
         "hovertemplate": "Year: %{text}<br>gdp: %{x:.1f} k$<br>Gini: %{y:.2f}",
         "line": {
          "shape": "spline",
          "smoothing": 0.1
         },
         "marker": {
          "angleref": "previous",
          "size": 12,
          "symbol": "arrow-bar-up"
         },
         "mode": "lines+markers+text",
         "name": "Botswana",
         "text": [
          1993,
          2002,
          2009,
          2015
         ],
         "textposition": "top center",
         "type": "scatter",
         "visible": "legendonly",
         "x": [
          9.476542,
          11.725412,
          11.729417999999999,
          13.6822
         ],
         "y": [
          0.6014759,
          0.6472722,
          0.604583,
          0.5332503
         ]
        },
        {
         "hovertemplate": "Year: %{text}<br>gdp: %{x:.1f} k$<br>Gini: %{y:.2f}",
         "line": {
          "shape": "spline",
          "smoothing": 0.1
         },
         "marker": {
          "angleref": "previous",
          "size": 12,
          "symbol": "arrow-bar-up"
         },
         "mode": "lines+markers+text",
         "name": "Brazil",
         "text": [
          1990,
          1992,
          1993,
          1995,
          1996,
          1997,
          1998,
          1999,
          2001,
          2002,
          2003,
          2004,
          2005,
          2006,
          2007,
          2008,
          2009,
          2011,
          2012,
          2013,
          2014,
          2015,
          2016,
          2017,
          2018,
          2019,
          2020,
          2021,
          2022
         ],
         "textposition": "top center",
         "type": "scatter",
         "visible": "legendonly",
         "x": [
          10.401843000000001,
          10.103788,
          10.431409,
          11.151191,
          11.224399,
          11.432649999999999,
          11.304097,
          11.196839,
          11.536363999999999,
          11.739432,
          11.733411,
          12.268664000000001,
          12.520855,
          12.877443999999999,
          13.518848,
          14.067946,
          13.916962999999999,
          15.271469999999999,
          15.425353,
          15.751484,
          15.695644,
          15.011576999999999,
          14.402494,
          14.477861,
          14.619591,
          14.685128,
          14.109763999999998,
          14.735582,
          15.093465
         ],
         "y": [
          0.6044999,
          0.5310165,
          0.600656,
          0.59530365,
          0.5983732,
          0.59753734,
          0.5956541,
          0.5895037,
          0.5840255,
          0.58105445,
          0.57553095,
          0.564716,
          0.56309944,
          0.5564207,
          0.54918945,
          0.5403744,
          0.5368187,
          0.5294164,
          0.53435296,
          0.5268333,
          0.5202964,
          0.51926446,
          0.533671,
          0.53321064,
          0.5388832,
          0.5350931,
          0.48902002,
          0.52938724,
          0.5201522
         ]
        },
        {
         "hovertemplate": "Year: %{text}<br>gdp: %{x:.1f} k$<br>Gini: %{y:.2f}",
         "line": {
          "shape": "spline",
          "smoothing": 0.1
         },
         "marker": {
          "angleref": "previous",
          "size": 12,
          "symbol": "arrow-bar-up"
         },
         "mode": "lines+markers+text",
         "name": "Bulgaria",
         "text": [
          1992,
          2006,
          2007,
          2008,
          2009,
          2010,
          2011,
          2012,
          2013,
          2014,
          2015,
          2016,
          2017,
          2018,
          2019,
          2020,
          2021
         ],
         "textposition": "top center",
         "type": "scatter",
         "visible": "legendonly",
         "x": [
          10.840605,
          15.906753,
          17.090451,
          18.265783,
          17.768514,
          18.164055,
          18.663006000000003,
          18.911982,
          18.914898,
          19.203324000000002,
          19.982867,
          20.732580000000002,
          21.458049,
          22.19602,
          23.254787,
          22.466918,
          24.38618
         ],
         "y": [
          0.3071431,
          0.3568935,
          0.36095893,
          0.33572584,
          0.3382308,
          0.3565347,
          0.34275046,
          0.36011046,
          0.36570963,
          0.37415925,
          0.38564444,
          0.40589708,
          0.40378964,
          0.41284075,
          0.40271127,
          0.40523154,
          0.3900545
         ]
        },
        {
         "hovertemplate": "Year: %{text}<br>gdp: %{x:.1f} k$<br>Gini: %{y:.2f}",
         "line": {
          "shape": "spline",
          "smoothing": 0.1
         },
         "marker": {
          "angleref": "previous",
          "size": 12,
          "symbol": "arrow-bar-up"
         },
         "mode": "lines+markers+text",
         "name": "Burkina Faso",
         "text": [
          1994,
          1998,
          2003,
          2009,
          2014,
          2018,
          2021
         ],
         "textposition": "top center",
         "type": "scatter",
         "visible": "legendonly",
         "x": [
          1.0181222,
          1.2281229,
          1.3854551,
          1.5781489,
          1.8466451,
          2.0512185,
          2.1760933
         ],
         "y": [
          0.4802524,
          0.49877948,
          0.4325128,
          0.39761,
          0.35301226,
          0.43016732,
          0.37391287
         ]
        },
        {
         "hovertemplate": "Year: %{text}<br>gdp: %{x:.1f} k$<br>Gini: %{y:.2f}",
         "line": {
          "shape": "spline",
          "smoothing": 0.1
         },
         "marker": {
          "angleref": "previous",
          "size": 12,
          "symbol": "arrow-bar-up"
         },
         "mode": "lines+markers+text",
         "name": "Burundi",
         "text": [
          1992,
          1998,
          2006,
          2013,
          2020
         ],
         "textposition": "top center",
         "type": "scatter",
         "visible": "legendonly",
         "x": [
          1.1900674,
          0.8916997999999999,
          0.809696,
          0.8246105300000001,
          0.7113553
         ],
         "y": [
          0.3333381,
          0.42059556,
          0.33359864,
          0.38623992,
          0.37456092
         ]
        },
        {
         "hovertemplate": "Year: %{text}<br>gdp: %{x:.1f} k$<br>Gini: %{y:.2f}",
         "line": {
          "shape": "spline",
          "smoothing": 0.1
         },
         "marker": {
          "angleref": "previous",
          "size": 12,
          "symbol": "arrow-bar-up"
         },
         "mode": "lines+markers+text",
         "name": "Cameroon",
         "text": [
          1996,
          2001,
          2007,
          2014,
          2021
         ],
         "textposition": "top center",
         "type": "scatter",
         "visible": "legendonly",
         "x": [
          2.74952,
          2.985578,
          3.3092822,
          3.5302832,
          3.689359
         ],
         "y": [
          0.44446665,
          0.42136794,
          0.42820063,
          0.46640873,
          0.42176074
         ]
        },
        {
         "hovertemplate": "Year: %{text}<br>gdp: %{x:.1f} k$<br>Gini: %{y:.2f}",
         "line": {
          "shape": "spline",
          "smoothing": 0.1
         },
         "marker": {
          "angleref": "previous",
          "size": 12,
          "symbol": "arrow-bar-up"
         },
         "mode": "lines+markers+text",
         "name": "Canada",
         "text": [
          1990,
          1991,
          1992,
          1993,
          1994,
          1995,
          1996,
          1997,
          1998,
          1999,
          2000,
          2001,
          2002,
          2003,
          2004,
          2005,
          2006,
          2007,
          2008,
          2009,
          2010,
          2011,
          2012,
          2013,
          2014,
          2015,
          2016,
          2017,
          2018,
          2019
         ],
         "textposition": "top center",
         "type": "scatter",
         "visible": "legendonly",
         "x": [
          34.544625,
          33.40455,
          33.305434,
          33.816919999999996,
          34.951754,
          35.51982,
          35.744137,
          36.905457000000006,
          38.025254000000004,
          39.656477,
          41.30775,
          41.627625,
          42.412414,
          42.791093999999994,
          43.704668,
          44.683766000000006,
          45.401464999999995,
          45.884383,
          45.841996,
          44.000402,
          44.85882,
          45.815529999999995,
          46.116426,
          46.69304,
          47.554258000000004,
          47.507453,
          47.460370000000005,
          48.317175999999996,
          48.946246,
          49.16912
         ],
         "y": [
          0.31365362,
          0.31943396,
          0.3156432,
          0.31675926,
          0.3130381,
          0.3150958,
          0.32768053,
          0.33116943,
          0.33217245,
          0.33060935,
          0.33418295,
          0.33554783,
          0.3356031,
          0.33809465,
          0.33776483,
          0.33621806,
          0.3409054,
          0.33841008,
          0.33930567,
          0.33952153,
          0.33592603,
          0.32657078,
          0.33539012,
          0.3379898,
          0.33157605,
          0.33746484,
          0.32701823,
          0.33308205,
          0.3250927,
          0.31749648
         ]
        },
        {
         "hovertemplate": "Year: %{text}<br>gdp: %{x:.1f} k$<br>Gini: %{y:.2f}",
         "line": {
          "shape": "spline",
          "smoothing": 0.1
         },
         "marker": {
          "angleref": "previous",
          "size": 12,
          "symbol": "arrow-bar-up"
         },
         "mode": "lines+markers+text",
         "name": "Cape Verde",
         "text": [
          2001,
          2007,
          2015
         ],
         "textposition": "top center",
         "type": "scatter",
         "visible": "legendonly",
         "x": [
          4.278758,
          6.3459414,
          6.6919316
         ],
         "y": [
          0.5249597,
          0.47187388,
          0.42381087
         ]
        },
        {
         "hovertemplate": "Year: %{text}<br>gdp: %{x:.1f} k$<br>Gini: %{y:.2f}",
         "line": {
          "shape": "spline",
          "smoothing": 0.1
         },
         "marker": {
          "angleref": "previous",
          "size": 12,
          "symbol": "arrow-bar-up"
         },
         "mode": "lines+markers+text",
         "name": "Central African Republic",
         "text": [
          1992,
          2008,
          2021
         ],
         "textposition": "top center",
         "type": "scatter",
         "visible": "legendonly",
         "x": [
          1.0491194000000001,
          1.0383353,
          0.8381929300000001
         ],
         "y": [
          0.5927244,
          0.56177914,
          0.43027893
         ]
        },
        {
         "hovertemplate": "Year: %{text}<br>gdp: %{x:.1f} k$<br>Gini: %{y:.2f}",
         "line": {
          "shape": "spline",
          "smoothing": 0.1
         },
         "marker": {
          "angleref": "previous",
          "size": 12,
          "symbol": "arrow-bar-up"
         },
         "mode": "lines+markers+text",
         "name": "Chad",
         "text": [
          2003,
          2011,
          2018,
          2022
         ],
         "textposition": "top center",
         "type": "scatter",
         "visible": "legendonly",
         "x": [
          1.1330654,
          1.6826577,
          1.563544,
          1.4126708000000001
         ],
         "y": [
          0.39809614,
          0.43319756,
          0.37499154,
          0.373575
         ]
        },
        {
         "hovertemplate": "Year: %{text}<br>gdp: %{x:.1f} k$<br>Gini: %{y:.2f}",
         "line": {
          "shape": "spline",
          "smoothing": 0.1
         },
         "marker": {
          "angleref": "previous",
          "size": 12,
          "symbol": "arrow-bar-up"
         },
         "mode": "lines+markers+text",
         "name": "Chile",
         "text": [
          1990,
          1992,
          1994,
          1996,
          1998,
          2000,
          2003,
          2006,
          2009,
          2011,
          2013,
          2015,
          2017,
          2020,
          2022
         ],
         "textposition": "top center",
         "type": "scatter",
         "visible": "legendonly",
         "x": [
          9.701824,
          11.25621,
          12.221508,
          13.825156000000002,
          15.07458,
          15.415754000000002,
          16.636654,
          19.339488000000003,
          20.2551,
          22.323723,
          24.011592,
          24.464745999999998,
          24.546912,
          22.97055,
          25.886121
         ],
         "y": [
          0.5723538,
          0.54806453,
          0.5642096,
          0.54868835,
          0.5551666,
          0.5275838,
          0.51475215,
          0.47706816,
          0.47404596,
          0.46868134,
          0.46823916,
          0.45343325,
          0.4526995,
          0.4700476,
          0.4304274
         ]
        },
        {
         "hovertemplate": "Year: %{text}<br>gdp: %{x:.1f} k$<br>Gini: %{y:.2f}",
         "line": {
          "shape": "spline",
          "smoothing": 0.1
         },
         "marker": {
          "angleref": "previous",
          "size": 12,
          "symbol": "arrow-bar-up"
         },
         "mode": "lines+markers+text",
         "name": "China",
         "text": [
          1990,
          1993,
          1996,
          1999,
          2002,
          2005,
          2008,
          2010,
          2011,
          2012,
          2013,
          2014,
          2015,
          2016,
          2017,
          2018,
          2019,
          2020,
          2021
         ],
         "textposition": "top center",
         "type": "scatter",
         "visible": "legendonly",
         "x": [
          1.4238964,
          1.9495343,
          2.6013634999999997,
          3.20673,
          4.0243557,
          5.3346465,
          7.4128745,
          8.884587999999999,
          9.680098,
          10.370727,
          11.101938,
          11.851404,
          12.612352000000001,
          13.399138,
          14.243532,
          15.133996,
          15.977763999999999,
          16.296609,
          17.657656
         ],
         "y": [
          0.3222662,
          0.338778,
          0.3522766,
          0.38703215,
          0.41985723,
          0.40900767,
          0.4296504,
          0.43744954,
          0.42409223,
          0.42237166,
          0.397364,
          0.39177653,
          0.38595304,
          0.38480517,
          0.39075777,
          0.38497642,
          0.38168344,
          0.37090832,
          0.35743752
         ]
        },
        {
         "hovertemplate": "Year: %{text}<br>gdp: %{x:.1f} k$<br>Gini: %{y:.2f}",
         "line": {
          "shape": "spline",
          "smoothing": 0.1
         },
         "marker": {
          "angleref": "previous",
          "size": 12,
          "symbol": "arrow-bar-up"
         },
         "mode": "lines+markers+text",
         "name": "Colombia",
         "text": [
          1992,
          1996,
          1999,
          2000,
          2001,
          2002,
          2003,
          2004,
          2005,
          2008,
          2009,
          2010,
          2011,
          2012,
          2013,
          2014,
          2015,
          2016,
          2017,
          2018,
          2019,
          2020,
          2021,
          2022
         ],
         "textposition": "top center",
         "type": "scatter",
         "visible": "legendonly",
         "x": [
          8.598992,
          9.538272000000001,
          9.023620999999999,
          9.138319,
          9.146405000000001,
          9.232627,
          9.453327999999999,
          9.816277,
          10.150708,
          11.507525,
          11.507717000000001,
          11.890203,
          12.578016,
          12.934966000000001,
          13.465075,
          13.938231,
          14.215688,
          14.358168,
          14.334915,
          14.426435,
          14.616135,
          13.358298000000001,
          14.661213,
          15.616752
         ],
         "y": [
          0.51352334,
          0.5678045,
          0.5853699,
          0.5839443,
          0.57328486,
          0.56007546,
          0.5357371,
          0.5497496,
          0.53908044,
          0.5530713,
          0.54283005,
          0.5461688,
          0.5348354,
          0.52637744,
          0.52625173,
          0.52543414,
          0.50983036,
          0.505629,
          0.4970708,
          0.50410813,
          0.5132595,
          0.53488696,
          0.5511767,
          0.5481926
         ]
        },
        {
         "hovertemplate": "Year: %{text}<br>gdp: %{x:.1f} k$<br>Gini: %{y:.2f}",
         "line": {
          "shape": "spline",
          "smoothing": 0.1
         },
         "marker": {
          "angleref": "previous",
          "size": 12,
          "symbol": "arrow-bar-up"
         },
         "mode": "lines+markers+text",
         "name": "Comoros",
         "text": [
          2004,
          2014
         ],
         "textposition": "top center",
         "type": "scatter",
         "visible": "legendonly",
         "x": [
          2.8815667,
          3.183157
         ],
         "y": [
          0.5592444,
          0.45332918
         ]
        },
        {
         "hovertemplate": "Year: %{text}<br>gdp: %{x:.1f} k$<br>Gini: %{y:.2f}",
         "line": {
          "shape": "spline",
          "smoothing": 0.1
         },
         "marker": {
          "angleref": "previous",
          "size": 12,
          "symbol": "arrow-bar-up"
         },
         "mode": "lines+markers+text",
         "name": "Congo",
         "text": [
          2005,
          2011
         ],
         "textposition": "top center",
         "type": "scatter",
         "visible": "legendonly",
         "x": [
          4.6381997,
          4.9969193999999995
         ],
         "y": [
          0.4732929,
          0.48937136
         ]
        },
        {
         "hovertemplate": "Year: %{text}<br>gdp: %{x:.1f} k$<br>Gini: %{y:.2f}",
         "line": {
          "shape": "spline",
          "smoothing": 0.1
         },
         "marker": {
          "angleref": "previous",
          "size": 12,
          "symbol": "arrow-bar-up"
         },
         "mode": "lines+markers+text",
         "name": "Costa Rica",
         "text": [
          1990,
          1991,
          1992,
          1993,
          1994,
          1995,
          1996,
          1997,
          1998,
          1999,
          2000,
          2001,
          2002,
          2003,
          2004,
          2005,
          2006,
          2007,
          2008,
          2009,
          2010,
          2011,
          2012,
          2013,
          2014,
          2015,
          2016,
          2017,
          2018,
          2019,
          2020,
          2021,
          2022
         ],
         "textposition": "top center",
         "type": "scatter",
         "visible": "legendonly",
         "x": [
          9.810552,
          9.78146,
          10.416108,
          10.882049,
          11.100709,
          11.290959999999998,
          11.1824795,
          11.532463,
          12.092476000000001,
          12.343710999999999,
          12.570696,
          12.771951,
          12.986001,
          13.333217000000001,
          13.713009,
          14.049909,
          14.864781,
          15.861875,
          16.385002,
          16.02403,
          16.667016,
          17.18645,
          17.809941,
          18.044945,
          18.480652,
          18.956191,
          19.5536,
          20.16822,
          20.503276999999997,
          20.818062,
          19.778387,
          21.220162000000002,
          22.070922
         ],
         "y": [
          0.45215893,
          0.46555334,
          0.4564088,
          0.45928076,
          0.4670296,
          0.45660135,
          0.46479103,
          0.45579028,
          0.45638052,
          0.4763139,
          0.47410414,
          0.515062,
          0.51812834,
          0.49300545,
          0.4841771,
          0.47510344,
          0.4928061,
          0.4931286,
          0.48640883,
          0.5055479,
          0.48043102,
          0.4875928,
          0.4841734,
          0.49151823,
          0.4863214,
          0.48374,
          0.48704153,
          0.4834524,
          0.47970015,
          0.4818988,
          0.4924514,
          0.48678052,
          0.47151324
         ]
        },
        {
         "hovertemplate": "Year: %{text}<br>gdp: %{x:.1f} k$<br>Gini: %{y:.2f}",
         "line": {
          "shape": "spline",
          "smoothing": 0.1
         },
         "marker": {
          "angleref": "previous",
          "size": 12,
          "symbol": "arrow-bar-up"
         },
         "mode": "lines+markers+text",
         "name": "Cote d'Ivoire",
         "text": [
          1992,
          1995,
          1998,
          2008,
          2015,
          2018,
          2021
         ],
         "textposition": "top center",
         "type": "scatter",
         "visible": "legendonly",
         "x": [
          4.028788,
          3.8987068,
          4.3295703,
          3.522234,
          4.423826699999999,
          4.941794,
          5.316464
         ],
         "y": [
          0.393822,
          0.40563822,
          0.38957423,
          0.43179876,
          0.41468868,
          0.37168875,
          0.35275364
         ]
        },
        {
         "hovertemplate": "Year: %{text}<br>gdp: %{x:.1f} k$<br>Gini: %{y:.2f}",
         "line": {
          "shape": "spline",
          "smoothing": 0.1
         },
         "marker": {
          "angleref": "previous",
          "size": 12,
          "symbol": "arrow-bar-up"
         },
         "mode": "lines+markers+text",
         "name": "Croatia",
         "text": [
          2009,
          2010,
          2011,
          2012,
          2013,
          2014,
          2015,
          2016,
          2017,
          2018,
          2019,
          2020,
          2021
         ],
         "textposition": "top center",
         "type": "scatter",
         "visible": "legendonly",
         "x": [
          24.896803,
          24.643150000000002,
          24.707871,
          24.203596,
          24.174793,
          24.170154,
          24.984914,
          26.056287,
          27.267509999999998,
          28.288168000000002,
          29.412422,
          27.002200000000002,
          32.060504
         ],
         "y": [
          0.3255369,
          0.32373103,
          0.32254267,
          0.324717,
          0.3199227,
          0.32102978,
          0.31113166,
          0.30897906,
          0.30352312,
          0.29728642,
          0.28908294,
          0.29543322,
          0.28895962
         ]
        },
        {
         "hovertemplate": "Year: %{text}<br>gdp: %{x:.1f} k$<br>Gini: %{y:.2f}",
         "line": {
          "shape": "spline",
          "smoothing": 0.1
         },
         "marker": {
          "angleref": "previous",
          "size": 12,
          "symbol": "arrow-bar-up"
         },
         "mode": "lines+markers+text",
         "name": "Cyprus",
         "text": [
          2004,
          2005,
          2006,
          2007,
          2008,
          2009,
          2010,
          2011,
          2012,
          2013,
          2014,
          2015,
          2016,
          2017,
          2018,
          2019,
          2020,
          2021
         ],
         "textposition": "top center",
         "type": "scatter",
         "visible": "legendonly",
         "x": [
          36.498637,
          37.72272,
          38.847344,
          39.967742,
          40.398023,
          38.535410000000006,
          38.297,
          37.482105000000004,
          35.64292,
          33.384730000000005,
          33.136742,
          34.45339,
          36.509355000000006,
          38.28827,
          39.977312,
          41.741805,
          39.87187,
          43.417269999999995
         ],
         "y": [
          0.30089056,
          0.30259413,
          0.31125963,
          0.31113273,
          0.31708607,
          0.32108265,
          0.3145779,
          0.326255,
          0.34312433,
          0.37041834,
          0.35565287,
          0.33966377,
          0.32891682,
          0.31416234,
          0.32739753,
          0.3122325,
          0.31727943,
          0.3125177
         ]
        },
        {
         "hovertemplate": "Year: %{text}<br>gdp: %{x:.1f} k$<br>Gini: %{y:.2f}",
         "line": {
          "shape": "spline",
          "smoothing": 0.1
         },
         "marker": {
          "angleref": "previous",
          "size": 12,
          "symbol": "arrow-bar-up"
         },
         "mode": "lines+markers+text",
         "name": "Czechia",
         "text": [
          1992,
          1993,
          1996,
          2002,
          2004,
          2005,
          2006,
          2007,
          2008,
          2009,
          2010,
          2011,
          2012,
          2013,
          2014,
          2015,
          2016,
          2017,
          2018,
          2019,
          2020,
          2021
         ],
         "textposition": "top center",
         "type": "scatter",
         "visible": "legendonly",
         "x": [
          20.76879,
          20.760055,
          23.756978999999998,
          26.289627,
          28.542254,
          30.384447,
          32.352812,
          33.956246,
          34.58044,
          32.782613,
          33.483137,
          34.00219,
          33.6881,
          33.66147,
          34.386703000000004,
          36.168417999999996,
          37.01496,
          38.824887000000004,
          39.941285,
          40.989727,
          38.63998,
          40.744457000000004
         ],
         "y": [
          0.20703283,
          0.2655349,
          0.2579901,
          0.26555094,
          0.2753318,
          0.26946017,
          0.26744118,
          0.25998646,
          0.26280212,
          0.26156676,
          0.26623514,
          0.26381272,
          0.26109937,
          0.26473904,
          0.25923222,
          0.25867426,
          0.25406334,
          0.2485221,
          0.24990341,
          0.25262198,
          0.26245132,
          0.26202103
         ]
        },
        {
         "hovertemplate": "Year: %{text}<br>gdp: %{x:.1f} k$<br>Gini: %{y:.2f}",
         "line": {
          "shape": "spline",
          "smoothing": 0.1
         },
         "marker": {
          "angleref": "previous",
          "size": 12,
          "symbol": "arrow-bar-up"
         },
         "mode": "lines+markers+text",
         "name": "Democratic Republic of Congo",
         "text": [
          2004,
          2012,
          2020
         ],
         "textposition": "top center",
         "type": "scatter",
         "visible": "legendonly",
         "x": [
          0.7335419000000001,
          0.9009790000000001,
          1.0440712
         ],
         "y": [
          0.41642156,
          0.42075598,
          0.44674513
         ]
        },
        {
         "hovertemplate": "Year: %{text}<br>gdp: %{x:.1f} k$<br>Gini: %{y:.2f}",
         "line": {
          "shape": "spline",
          "smoothing": 0.1
         },
         "marker": {
          "angleref": "previous",
          "size": 12,
          "symbol": "arrow-bar-up"
         },
         "mode": "lines+markers+text",
         "name": "Denmark",
         "text": [
          1992,
          1995,
          2000,
          2003,
          2004,
          2005,
          2006,
          2007,
          2008,
          2009,
          2010,
          2011,
          2012,
          2013,
          2014,
          2015,
          2016,
          2017,
          2018,
          2019,
          2020,
          2021
         ],
         "textposition": "top center",
         "type": "scatter",
         "visible": "legendonly",
         "x": [
          40.10889,
          43.015676,
          48.90701,
          49.262645,
          50.446543,
          51.483273000000004,
          53.32229,
          53.569027,
          52.98253,
          50.114050000000006,
          50.825413999999995,
          51.293207,
          51.21631,
          51.479266,
          52.048336000000006,
          52.892644999999995,
          54.185008,
          55.35668,
          56.178773,
          56.813964999999996,
          55.275062,
          58.80296
         ],
         "y": [
          0.2469101,
          0.22955896,
          0.2376632,
          0.2563103,
          0.24911784,
          0.2518638,
          0.25913078,
          0.26184258,
          0.2524627,
          0.26701188,
          0.2719856,
          0.27311745,
          0.2779075,
          0.28542534,
          0.2835288,
          0.28177238,
          0.28187442,
          0.28746662,
          0.2816572,
          0.27723306,
          0.27503932,
          0.28323486
         ]
        },
        {
         "hovertemplate": "Year: %{text}<br>gdp: %{x:.1f} k$<br>Gini: %{y:.2f}",
         "line": {
          "shape": "spline",
          "smoothing": 0.1
         },
         "marker": {
          "angleref": "previous",
          "size": 12,
          "symbol": "arrow-bar-up"
         },
         "mode": "lines+markers+text",
         "name": "Djibouti",
         "text": [
          2013,
          2017
         ],
         "textposition": "top center",
         "type": "scatter",
         "visible": "legendonly",
         "x": [
          3.664268,
          4.451684
         ],
         "y": [
          0.44117805,
          0.41585726
         ]
        },
        {
         "hovertemplate": "Year: %{text}<br>gdp: %{x:.1f} k$<br>Gini: %{y:.2f}",
         "line": {
          "shape": "spline",
          "smoothing": 0.1
         },
         "marker": {
          "angleref": "previous",
          "size": 12,
          "symbol": "arrow-bar-up"
         },
         "mode": "lines+markers+text",
         "name": "Dominican Republic",
         "text": [
          1992,
          1996,
          1997,
          2000,
          2001,
          2002,
          2003,
          2004,
          2005,
          2006,
          2007,
          2008,
          2009,
          2010,
          2011,
          2012,
          2013,
          2014,
          2015,
          2016,
          2017,
          2018,
          2019,
          2020,
          2021,
          2022
         ],
         "textposition": "top center",
         "type": "scatter",
         "visible": "legendonly",
         "x": [
          6.6888706,
          7.6501133,
          8.189046000000001,
          9.24631,
          9.33357,
          9.613332,
          9.351324,
          9.460913,
          10.215499,
          11.009274999999999,
          11.677254000000001,
          11.899227999999999,
          11.856048000000001,
          12.677018,
          12.905289,
          13.087949,
          13.555512,
          14.334733,
          15.14547,
          15.967201999999999,
          16.524532999999998,
          17.484121,
          18.17106,
          16.768425999999998,
          18.626078,
          19.338016
         ],
         "y": [
          0.5105286,
          0.47418755,
          0.48901546,
          0.5151364,
          0.49998924,
          0.49671522,
          0.5211965,
          0.52049935,
          0.499648,
          0.51961064,
          0.48855126,
          0.48107398,
          0.48875645,
          0.47325817,
          0.47706884,
          0.46133503,
          0.47656393,
          0.442794,
          0.4518094,
          0.45722562,
          0.42192984,
          0.436861,
          0.41917086,
          0.39628294,
          0.38529298,
          0.36979377
         ]
        },
        {
         "hovertemplate": "Year: %{text}<br>gdp: %{x:.1f} k$<br>Gini: %{y:.2f}",
         "line": {
          "shape": "spline",
          "smoothing": 0.1
         },
         "marker": {
          "angleref": "previous",
          "size": 12,
          "symbol": "arrow-bar-up"
         },
         "mode": "lines+markers+text",
         "name": "East Timor",
         "text": [
          2001,
          2007,
          2014
         ],
         "textposition": "top center",
         "type": "scatter",
         "visible": "legendonly",
         "x": [
          2.6546958,
          2.320125,
          3.2047489999999996
         ],
         "y": [
          0.35935292,
          0.27823317,
          0.28652927
         ]
        },
        {
         "hovertemplate": "Year: %{text}<br>gdp: %{x:.1f} k$<br>Gini: %{y:.2f}",
         "line": {
          "shape": "spline",
          "smoothing": 0.1
         },
         "marker": {
          "angleref": "previous",
          "size": 12,
          "symbol": "arrow-bar-up"
         },
         "mode": "lines+markers+text",
         "name": "Ecuador",
         "text": [
          1994,
          1999,
          2000,
          2003,
          2004,
          2005,
          2006,
          2007,
          2008,
          2009,
          2010,
          2011,
          2012,
          2013,
          2014,
          2015,
          2016,
          2017,
          2018,
          2019,
          2020,
          2021,
          2022
         ],
         "textposition": "top center",
         "type": "scatter",
         "visible": "legendonly",
         "x": [
          8.466249,
          8.263377,
          8.211711,
          8.670211,
          9.220325,
          9.542225,
          9.792422,
          9.836419,
          10.284953999999999,
          10.170651,
          10.355822,
          10.988722,
          11.424152,
          11.806924,
          12.073811,
          11.908216,
          11.587825,
          11.679431000000001,
          11.608419,
          11.390217,
          10.356975,
          10.668758,
          10.859218
         ],
         "y": [
          0.5333033,
          0.5857073,
          0.5629919,
          0.5351386,
          0.53889215,
          0.53049964,
          0.5224719,
          0.53354627,
          0.49787596,
          0.48498443,
          0.48799783,
          0.45871222,
          0.46109366,
          0.46862358,
          0.4499254,
          0.459508,
          0.4501621,
          0.44669914,
          0.45437902,
          0.45709932,
          0.47309554,
          0.45797464,
          0.45465034
         ]
        },
        {
         "hovertemplate": "Year: %{text}<br>gdp: %{x:.1f} k$<br>Gini: %{y:.2f}",
         "line": {
          "shape": "spline",
          "smoothing": 0.1
         },
         "marker": {
          "angleref": "previous",
          "size": 12,
          "symbol": "arrow-bar-up"
         },
         "mode": "lines+markers+text",
         "name": "Egypt",
         "text": [
          1990,
          1995,
          1999,
          2004,
          2008,
          2010,
          2012,
          2015,
          2017,
          2019
         ],
         "textposition": "top center",
         "type": "scatter",
         "visible": "legendonly",
         "x": [
          6.2917056,
          6.6355366,
          7.5528794,
          8.249868000000001,
          9.770222,
          10.333275,
          10.279860000000001,
          10.534882,
          10.995006,
          11.780961999999999
         ],
         "y": [
          0.3200394,
          0.3008284,
          0.30834845,
          0.31847546,
          0.31102437,
          0.30191457,
          0.28292203,
          0.31823358,
          0.31533954,
          0.31893092
         ]
        },
        {
         "hovertemplate": "Year: %{text}<br>gdp: %{x:.1f} k$<br>Gini: %{y:.2f}",
         "line": {
          "shape": "spline",
          "smoothing": 0.1
         },
         "marker": {
          "angleref": "previous",
          "size": 12,
          "symbol": "arrow-bar-up"
         },
         "mode": "lines+markers+text",
         "name": "El Salvador",
         "text": [
          1991,
          1995,
          1996,
          1998,
          1999,
          2000,
          2001,
          2002,
          2003,
          2004,
          2005,
          2006,
          2007,
          2008,
          2009,
          2010,
          2011,
          2012,
          2013,
          2014,
          2015,
          2016,
          2017,
          2018,
          2019,
          2021,
          2022
         ],
         "textposition": "top center",
         "type": "scatter",
         "visible": "legendonly",
         "x": [
          5.177017,
          6.1074706999999995,
          6.105047,
          6.367037,
          6.462124,
          6.4970303000000005,
          6.5217666,
          6.598804,
          6.6847826999999995,
          6.7343975,
          6.9124595,
          7.2162935,
          7.337833,
          7.4663115,
          7.2811597,
          7.410216999999999,
          7.660635,
          7.851226,
          7.9910293,
          8.097958,
          8.263644000000001,
          8.447104,
          8.617922,
          8.812925,
          9.015664000000001,
          9.190174,
          9.396014
         ],
         "y": [
          0.53793645,
          0.49848166,
          0.5095812,
          0.54378504,
          0.5208074,
          0.5146378,
          0.5134745,
          0.518517,
          0.5043636,
          0.47799078,
          0.48472306,
          0.4568936,
          0.45217508,
          0.46885607,
          0.4582485,
          0.43513292,
          0.4231799,
          0.41828847,
          0.43358666,
          0.41559452,
          0.4055182,
          0.39978546,
          0.38007155,
          0.38610572,
          0.38778764,
          0.39010745,
          0.38753173
         ]
        },
        {
         "hovertemplate": "Year: %{text}<br>gdp: %{x:.1f} k$<br>Gini: %{y:.2f}",
         "line": {
          "shape": "spline",
          "smoothing": 0.1
         },
         "marker": {
          "angleref": "previous",
          "size": 12,
          "symbol": "arrow-bar-up"
         },
         "mode": "lines+markers+text",
         "name": "Estonia",
         "text": [
          2003,
          2004,
          2005,
          2006,
          2007,
          2008,
          2009,
          2010,
          2011,
          2012,
          2013,
          2014,
          2015,
          2016,
          2017,
          2018,
          2019,
          2020,
          2021
         ],
         "textposition": "top center",
         "type": "scatter",
         "visible": "legendonly",
         "x": [
          22.049684000000003,
          23.691152,
          26.096988,
          28.814919999999997,
          31.140580000000003,
          29.621764,
          25.337176,
          26.015746,
          27.990136999999997,
          28.997322,
          29.525119999999998,
          30.494096000000003,
          31.038805,
          32.008934,
          33.821934,
          34.979867,
          36.153434000000004,
          35.883266000000006,
          38.717695
         ],
         "y": [
          0.37195182,
          0.33559534,
          0.3344686,
          0.33667818,
          0.31178468,
          0.31915063,
          0.3144271,
          0.31999895,
          0.3248852,
          0.329136,
          0.35075676,
          0.3458795,
          0.3266799,
          0.3119477,
          0.30354318,
          0.3032016,
          0.30765438,
          0.30737108,
          0.31834
         ]
        },
        {
         "hovertemplate": "Year: %{text}<br>gdp: %{x:.1f} k$<br>Gini: %{y:.2f}",
         "line": {
          "shape": "spline",
          "smoothing": 0.1
         },
         "marker": {
          "angleref": "previous",
          "size": 12,
          "symbol": "arrow-bar-up"
         },
         "mode": "lines+markers+text",
         "name": "Eswatini",
         "text": [
          1994,
          2000,
          2009,
          2016
         ],
         "textposition": "top center",
         "type": "scatter",
         "visible": "legendonly",
         "x": [
          4.875368000000001,
          5.4434395,
          6.989377999999999,
          8.1132397
         ],
         "y": [
          0.5863356,
          0.5311352,
          0.5144115,
          0.54579794
         ]
        },
        {
         "hovertemplate": "Year: %{text}<br>gdp: %{x:.1f} k$<br>Gini: %{y:.2f}",
         "line": {
          "shape": "spline",
          "smoothing": 0.1
         },
         "marker": {
          "angleref": "previous",
          "size": 12,
          "symbol": "arrow-bar-up"
         },
         "mode": "lines+markers+text",
         "name": "Ethiopia",
         "text": [
          1995,
          1999,
          2004,
          2010,
          2015
         ],
         "textposition": "top center",
         "type": "scatter",
         "visible": "legendonly",
         "x": [
          0.671541,
          0.6981934,
          0.7819135,
          1.2364794,
          1.7506727
         ],
         "y": [
          0.44562823,
          0.29975793,
          0.29806852,
          0.33170602,
          0.34993124
         ]
        },
        {
         "hovertemplate": "Year: %{text}<br>gdp: %{x:.1f} k$<br>Gini: %{y:.2f}",
         "line": {
          "shape": "spline",
          "smoothing": 0.1
         },
         "marker": {
          "angleref": "previous",
          "size": 12,
          "symbol": "arrow-bar-up"
         },
         "mode": "lines+markers+text",
         "name": "Fiji",
         "text": [
          2002,
          2008,
          2013,
          2019
         ],
         "textposition": "top center",
         "type": "scatter",
         "visible": "legendonly",
         "x": [
          9.618807,
          9.961513,
          10.83061,
          13.241546
         ],
         "y": [
          0.38102055,
          0.40375587,
          0.36696598,
          0.30706868
         ]
        },
        {
         "hovertemplate": "Year: %{text}<br>gdp: %{x:.1f} k$<br>Gini: %{y:.2f}",
         "line": {
          "shape": "spline",
          "smoothing": 0.1
         },
         "marker": {
          "angleref": "previous",
          "size": 12,
          "symbol": "arrow-bar-up"
         },
         "mode": "lines+markers+text",
         "name": "Finland",
         "text": [
          1991,
          1995,
          2000,
          2003,
          2004,
          2005,
          2006,
          2007,
          2008,
          2009,
          2010,
          2011,
          2012,
          2013,
          2014,
          2015,
          2016,
          2017,
          2018,
          2019,
          2020,
          2021
         ],
         "textposition": "top center",
         "type": "scatter",
         "visible": "legendonly",
         "x": [
          30.83161,
          31.499807,
          39.894194999999996,
          42.168695,
          43.724965,
          44.786910000000006,
          46.4122,
          48.664266000000005,
          48.817989999999995,
          44.662099999999995,
          45.874660000000006,
          46.825824,
          45.952246,
          45.328574,
          44.976777,
          45.07259,
          46.20679,
          47.570133,
          48.048523,
          48.583434000000004,
          47.37122,
          48.61482
         ],
         "y": [
          0.22879761,
          0.23459136,
          0.27156627,
          0.27686426,
          0.27897653,
          0.27619493,
          0.27998725,
          0.28285563,
          0.27838135,
          0.27455276,
          0.2771396,
          0.27642646,
          0.27096376,
          0.27193668,
          0.26776803,
          0.2710181,
          0.27078423,
          0.2738283,
          0.27329567,
          0.27737123,
          0.27091044,
          0.27708507
         ]
        },
        {
         "hovertemplate": "Year: %{text}<br>gdp: %{x:.1f} k$<br>Gini: %{y:.2f}",
         "line": {
          "shape": "spline",
          "smoothing": 0.1
         },
         "marker": {
          "angleref": "previous",
          "size": 12,
          "symbol": "arrow-bar-up"
         },
         "mode": "lines+markers+text",
         "name": "France",
         "text": [
          1990,
          1996,
          1997,
          1998,
          1999,
          2000,
          2001,
          2002,
          2003,
          2004,
          2005,
          2006,
          2007,
          2008,
          2009,
          2010,
          2011,
          2012,
          2013,
          2014,
          2015,
          2016,
          2017,
          2018,
          2019,
          2020,
          2021
         ],
         "textposition": "top center",
         "type": "scatter",
         "visible": "legendonly",
         "x": [
          33.843019999999996,
          35.546582,
          36.247605,
          37.409394999999996,
          38.49004,
          39.72649,
          40.220099999999995,
          40.38146,
          40.425637,
          41.265125,
          41.63803,
          42.362984,
          43.1235,
          42.99306,
          41.544023,
          42.145684,
          42.862413999999994,
          42.78905,
          42.813934,
          43.021395,
          43.34578500000001,
          43.70515,
          44.577066,
          45.24596,
          45.922793,
          42.344945,
          44.941438000000005
         ],
         "y": [
          0.32119063,
          0.32016575,
          0.3190015,
          0.31657764,
          0.32499772,
          0.32553056,
          0.3253329,
          0.31778157,
          0.31411052,
          0.30647254,
          0.29833862,
          0.29691088,
          0.32427707,
          0.32996443,
          0.3266122,
          0.33720416,
          0.3329475,
          0.3311486,
          0.32512552,
          0.32262158,
          0.32704228,
          0.31923512,
          0.3163205,
          0.32380664,
          0.31199563,
          0.3066147,
          0.31500953
         ]
        },
        {
         "hovertemplate": "Year: %{text}<br>gdp: %{x:.1f} k$<br>Gini: %{y:.2f}",
         "line": {
          "shape": "spline",
          "smoothing": 0.1
         },
         "marker": {
          "angleref": "previous",
          "size": 12,
          "symbol": "arrow-bar-up"
         },
         "mode": "lines+markers+text",
         "name": "Gabon",
         "text": [
          2005,
          2017
         ],
         "textposition": "top center",
         "type": "scatter",
         "visible": "legendonly",
         "x": [
          15.028367,
          14.478129999999998
         ],
         "y": [
          0.42184988,
          0.38024372
         ]
        },
        {
         "hovertemplate": "Year: %{text}<br>gdp: %{x:.1f} k$<br>Gini: %{y:.2f}",
         "line": {
          "shape": "spline",
          "smoothing": 0.1
         },
         "marker": {
          "angleref": "previous",
          "size": 12,
          "symbol": "arrow-bar-up"
         },
         "mode": "lines+markers+text",
         "name": "Gambia",
         "text": [
          1998,
          2003,
          2010,
          2015,
          2020
         ],
         "textposition": "top center",
         "type": "scatter",
         "visible": "legendonly",
         "x": [
          1.9652771,
          2.089621,
          2.1721938,
          1.905823,
          2.0426202
         ],
         "y": [
          0.48250192,
          0.47308534,
          0.43568197,
          0.35918832,
          0.38757205
         ]
        },
        {
         "hovertemplate": "Year: %{text}<br>gdp: %{x:.1f} k$<br>Gini: %{y:.2f}",
         "line": {
          "shape": "spline",
          "smoothing": 0.1
         },
         "marker": {
          "angleref": "previous",
          "size": 12,
          "symbol": "arrow-bar-up"
         },
         "mode": "lines+markers+text",
         "name": "Georgia",
         "text": [
          1996,
          1997,
          1998,
          1999,
          2000,
          2001,
          2002,
          2003,
          2004,
          2005,
          2006,
          2007,
          2008,
          2009,
          2010,
          2011,
          2012,
          2013,
          2014,
          2015,
          2016,
          2017,
          2018,
          2019,
          2020,
          2021,
          2022
         ],
         "textposition": "top center",
         "type": "scatter",
         "visible": "legendonly",
         "x": [
          3.7404854,
          4.2686953,
          4.511488999999999,
          4.737405300000001,
          4.919232,
          5.2362227,
          5.572622,
          6.230822,
          6.6328145,
          7.3151980000000005,
          8.0499062,
          9.109897,
          9.358614,
          9.097421,
          9.735158,
          10.535907,
          11.294861000000001,
          11.73851,
          12.254126,
          12.605139999999999,
          12.963744,
          13.589707,
          14.253409,
          14.989258,
          13.966325999999999,
          15.486659,
          17.078342
         ],
         "y": [
          0.37132707,
          0.40682536,
          0.4123018,
          0.40128374,
          0.4045976,
          0.39557204,
          0.3724613,
          0.36650413,
          0.3616882,
          0.37375313,
          0.36865547,
          0.38108635,
          0.38532716,
          0.38234815,
          0.394587,
          0.3959351,
          0.38953948,
          0.38588807,
          0.37554133,
          0.36503676,
          0.3663965,
          0.37939596,
          0.36411363,
          0.35900706,
          0.3446499,
          0.3417846,
          0.3350009
         ]
        },
        {
         "hovertemplate": "Year: %{text}<br>gdp: %{x:.1f} k$<br>Gini: %{y:.2f}",
         "line": {
          "shape": "spline",
          "smoothing": 0.1
         },
         "marker": {
          "angleref": "previous",
          "size": 12,
          "symbol": "arrow-bar-up"
         },
         "mode": "lines+markers+text",
         "name": "Germany",
         "text": [
          1991,
          1992,
          1993,
          1994,
          1995,
          1996,
          1997,
          1998,
          1999,
          2000,
          2001,
          2002,
          2003,
          2004,
          2005,
          2006,
          2007,
          2008,
          2009,
          2010,
          2011,
          2012,
          2013,
          2014,
          2015,
          2016,
          2017,
          2018,
          2019,
          2020
         ],
         "textposition": "top center",
         "type": "scatter",
         "visible": "legendonly",
         "x": [
          38.294156,
          38.734938,
          38.105230000000006,
          38.881569999999996,
          39.36609,
          39.568599999999996,
          40.218848,
          41.022613,
          41.769811999999995,
          42.92818,
          43.576637000000005,
          43.41731,
          43.089473,
          43.605277,
          43.94929,
          45.678082,
          47.10061,
          47.643223,
          45.044489999999996,
          46.99924,
          49.757926,
          49.87245,
          49.95417,
          50.845527000000004,
          51.159296999999995,
          51.87967,
          53.071457,
          53.431394999999995,
          53.884375,
          51.780027000000004
         ],
         "y": [
          0.29492873,
          0.2907326,
          0.28612086,
          0.29159415,
          0.28811273,
          0.27993777,
          0.28246725,
          0.2827037,
          0.29047978,
          0.2888814,
          0.29949388,
          0.29810533,
          0.2980293,
          0.30192587,
          0.31704092,
          0.3104196,
          0.3117709,
          0.30800265,
          0.30479428,
          0.30218413,
          0.30610505,
          0.3105579,
          0.31453598,
          0.30847794,
          0.31653914,
          0.3141309,
          0.31314865,
          0.31872115,
          0.31780925,
          0.3243345
         ]
        },
        {
         "hovertemplate": "Year: %{text}<br>gdp: %{x:.1f} k$<br>Gini: %{y:.2f}",
         "line": {
          "shape": "spline",
          "smoothing": 0.1
         },
         "marker": {
          "angleref": "previous",
          "size": 12,
          "symbol": "arrow-bar-up"
         },
         "mode": "lines+markers+text",
         "name": "Ghana",
         "text": [
          1991,
          1998,
          2005,
          2012,
          2016
         ],
         "textposition": "top center",
         "type": "scatter",
         "visible": "legendonly",
         "x": [
          2.3605127,
          2.671266,
          3.0759626,
          4.402546,
          4.662011000000001
         ],
         "y": [
          0.38434562,
          0.4007123,
          0.42760354,
          0.42372206,
          0.43512443
         ]
        },
        {
         "hovertemplate": "Year: %{text}<br>gdp: %{x:.1f} k$<br>Gini: %{y:.2f}",
         "line": {
          "shape": "spline",
          "smoothing": 0.1
         },
         "marker": {
          "angleref": "previous",
          "size": 12,
          "symbol": "arrow-bar-up"
         },
         "mode": "lines+markers+text",
         "name": "Greece",
         "text": [
          1995,
          2000,
          2003,
          2004,
          2005,
          2006,
          2007,
          2008,
          2009,
          2010,
          2011,
          2012,
          2013,
          2014,
          2015,
          2016,
          2017,
          2018,
          2019,
          2020,
          2021
         ],
         "textposition": "top center",
         "type": "scatter",
         "visible": "legendonly",
         "x": [
          24.920621,
          29.133713,
          32.981207000000005,
          34.56476,
          34.670035000000006,
          36.51989,
          37.619496,
          37.39401,
          35.691793,
          33.69321,
          30.318403999999997,
          28.322572,
          27.810912000000002,
          28.12996,
          28.260386999999998,
          28.239919999999998,
          28.604861,
          29.141174,
          29.72017,
          27.009207,
          29.63093
         ],
         "y": [
          0.3696663,
          0.34236935,
          0.32759297,
          0.33588123,
          0.34596738,
          0.35121885,
          0.33950907,
          0.33587772,
          0.33615103,
          0.3409893,
          0.3484217,
          0.362504,
          0.36127293,
          0.35804707,
          0.35996962,
          0.34956136,
          0.34350377,
          0.32890075,
          0.33101925,
          0.33558196,
          0.32939574
         ]
        },
        {
         "hovertemplate": "Year: %{text}<br>gdp: %{x:.1f} k$<br>Gini: %{y:.2f}",
         "line": {
          "shape": "spline",
          "smoothing": 0.1
         },
         "marker": {
          "angleref": "previous",
          "size": 12,
          "symbol": "arrow-bar-up"
         },
         "mode": "lines+markers+text",
         "name": "Grenada",
         "text": [
          2018
         ],
         "textposition": "top center",
         "type": "scatter",
         "visible": "legendonly",
         "x": [
          15.40178
         ],
         "y": [
          0.4381641
         ]
        },
        {
         "hovertemplate": "Year: %{text}<br>gdp: %{x:.1f} k$<br>Gini: %{y:.2f}",
         "line": {
          "shape": "spline",
          "smoothing": 0.1
         },
         "marker": {
          "angleref": "previous",
          "size": 12,
          "symbol": "arrow-bar-up"
         },
         "mode": "lines+markers+text",
         "name": "Guatemala",
         "text": [
          1998,
          2000,
          2006,
          2014
         ],
         "textposition": "top center",
         "type": "scatter",
         "visible": "legendonly",
         "x": [
          6.338337999999999,
          6.4998833000000005,
          6.972382,
          7.9393745
         ],
         "y": [
          0.493976,
          0.54173213,
          0.54568464,
          0.4827621
         ]
        },
        {
         "hovertemplate": "Year: %{text}<br>gdp: %{x:.1f} k$<br>Gini: %{y:.2f}",
         "line": {
          "shape": "spline",
          "smoothing": 0.1
         },
         "marker": {
          "angleref": "previous",
          "size": 12,
          "symbol": "arrow-bar-up"
         },
         "mode": "lines+markers+text",
         "name": "Guinea",
         "text": [
          1991,
          1994,
          2002,
          2007,
          2012,
          2018
         ],
         "textposition": "top center",
         "type": "scatter",
         "visible": "legendonly",
         "x": [
          1.4854352,
          1.5262556,
          1.7855734,
          1.8506372,
          1.9769581,
          2.471719
         ],
         "y": [
          0.4446398,
          0.46081552,
          0.43000692,
          0.39355347,
          0.33729705,
          0.29591954
         ]
        },
        {
         "hovertemplate": "Year: %{text}<br>gdp: %{x:.1f} k$<br>Gini: %{y:.2f}",
         "line": {
          "shape": "spline",
          "smoothing": 0.1
         },
         "marker": {
          "angleref": "previous",
          "size": 12,
          "symbol": "arrow-bar-up"
         },
         "mode": "lines+markers+text",
         "name": "Guinea-Bissau",
         "text": [
          1991,
          1993,
          2002,
          2010,
          2018,
          2021
         ],
         "textposition": "top center",
         "type": "scatter",
         "visible": "legendonly",
         "x": [
          2.0571743000000002,
          1.9970763999999999,
          1.6287303,
          1.6974955999999999,
          1.8518866,
          1.8313831999999999
         ],
         "y": [
          0.557557,
          0.43609467,
          0.3556889,
          0.50604075,
          0.34765232,
          0.33435068
         ]
        },
        {
         "hovertemplate": "Year: %{text}<br>gdp: %{x:.1f} k$<br>Gini: %{y:.2f}",
         "line": {
          "shape": "spline",
          "smoothing": 0.1
         },
         "marker": {
          "angleref": "previous",
          "size": 12,
          "symbol": "arrow-bar-up"
         },
         "mode": "lines+markers+text",
         "name": "Guyana",
         "text": [
          1992,
          1998
         ],
         "textposition": "top center",
         "type": "scatter",
         "visible": "legendonly",
         "x": [
          5.522390000000001,
          7.556183
         ],
         "y": [
          0.3946759,
          0.45039394
         ]
        },
        {
         "hovertemplate": "Year: %{text}<br>gdp: %{x:.1f} k$<br>Gini: %{y:.2f}",
         "line": {
          "shape": "spline",
          "smoothing": 0.1
         },
         "marker": {
          "angleref": "previous",
          "size": 12,
          "symbol": "arrow-bar-up"
         },
         "mode": "lines+markers+text",
         "name": "Haiti",
         "text": [
          2001,
          2012
         ],
         "textposition": "top center",
         "type": "scatter",
         "visible": "legendonly",
         "x": [
          2.9283257,
          3.0274502
         ],
         "y": [
          0.5898769,
          0.6044839
         ]
        },
        {
         "hovertemplate": "Year: %{text}<br>gdp: %{x:.1f} k$<br>Gini: %{y:.2f}",
         "line": {
          "shape": "spline",
          "smoothing": 0.1
         },
         "marker": {
          "angleref": "previous",
          "size": 12,
          "symbol": "arrow-bar-up"
         },
         "mode": "lines+markers+text",
         "name": "Honduras",
         "text": [
          1990,
          1991,
          1992,
          1993,
          1994,
          1995,
          1996,
          1997,
          1998,
          1999,
          2001,
          2002,
          2003,
          2004,
          2005,
          2006,
          2007,
          2008,
          2009,
          2010,
          2011,
          2012,
          2013,
          2014,
          2015,
          2016,
          2017,
          2018,
          2019
         ],
         "textposition": "top center",
         "type": "scatter",
         "visible": "legendonly",
         "x": [
          3.9127021,
          3.678262,
          3.7937112,
          3.9283718,
          3.8279932,
          3.9531025,
          3.9167415,
          3.9851077,
          4.0205857,
          3.8869856,
          4.0581116,
          4.101277,
          4.179423,
          4.3307393,
          4.482758,
          4.665767,
          4.842423,
          4.936869,
          4.714679,
          4.7901094,
          4.8748735,
          4.978073999999999,
          5.020937,
          5.0797036,
          5.1801865,
          5.287253,
          5.4476987,
          5.5612627,
          5.6136606
         ],
         "y": [
          0.5592856,
          0.5182139,
          0.51805204,
          0.5344585,
          0.54992497,
          0.554708,
          0.5569839,
          0.5272781,
          0.5729382,
          0.55219996,
          0.5535215,
          0.5571017,
          0.580804,
          0.58094627,
          0.5947935,
          0.57526565,
          0.5581602,
          0.55489975,
          0.5128177,
          0.53085744,
          0.5255424,
          0.53365433,
          0.49958706,
          0.4987544,
          0.4924883,
          0.49810323,
          0.49441433,
          0.48936284,
          0.48162824
         ]
        },
        {
         "hovertemplate": "Year: %{text}<br>gdp: %{x:.1f} k$<br>Gini: %{y:.2f}",
         "line": {
          "shape": "spline",
          "smoothing": 0.1
         },
         "marker": {
          "angleref": "previous",
          "size": 12,
          "symbol": "arrow-bar-up"
         },
         "mode": "lines+markers+text",
         "name": "Hungary",
         "text": [
          1991,
          1993,
          1994,
          1999,
          2004,
          2005,
          2006,
          2007,
          2008,
          2009,
          2010,
          2011,
          2012,
          2013,
          2014,
          2015,
          2016,
          2017,
          2018,
          2019,
          2020,
          2021
         ],
         "textposition": "top center",
         "type": "scatter",
         "visible": "legendonly",
         "x": [
          16.426941,
          15.856121,
          16.345784,
          18.528637,
          23.358887,
          24.41048,
          25.413276999999997,
          25.523275,
          25.824693,
          24.158206999999997,
          24.473463,
          25.001086,
          24.816346000000003,
          25.33333,
          26.476717,
          27.52368,
          28.212613,
          29.496164,
          31.117279999999997,
          32.645664000000004,
          31.232101999999998,
          33.583785000000006
         ],
         "y": [
          0.29623857,
          0.27938303,
          0.33285955,
          0.30219844,
          0.29864362,
          0.34721088,
          0.28296095,
          0.2788186,
          0.27514026,
          0.2695929,
          0.2944413,
          0.29157948,
          0.3080265,
          0.31504104,
          0.3091348,
          0.30407295,
          0.30324444,
          0.30582693,
          0.2961145,
          0.29950473,
          0.29711774,
          0.2917205
         ]
        },
        {
         "hovertemplate": "Year: %{text}<br>gdp: %{x:.1f} k$<br>Gini: %{y:.2f}",
         "line": {
          "shape": "spline",
          "smoothing": 0.1
         },
         "marker": {
          "angleref": "previous",
          "size": 12,
          "symbol": "arrow-bar-up"
         },
         "mode": "lines+markers+text",
         "name": "Iceland",
         "text": [
          2003,
          2004,
          2005,
          2006,
          2007,
          2008,
          2009,
          2010,
          2011,
          2012,
          2013,
          2014,
          2015,
          2016,
          2017
         ],
         "textposition": "top center",
         "type": "scatter",
         "visible": "legendonly",
         "x": [
          43.095355000000005,
          46.051742,
          48.104652,
          49.956848,
          52.82701,
          52.999438000000005,
          48.77095,
          47.457620000000006,
          48.186167999999995,
          48.440254,
          50.168688,
          50.450742,
          52.142934000000004,
          54.665766000000005,
          55.638492
         ],
         "y": [
          0.26836038,
          0.27981848,
          0.29002446,
          0.30245006,
          0.29470885,
          0.3178928,
          0.2865624,
          0.26171294,
          0.26830265,
          0.26769423,
          0.25402915,
          0.27800417,
          0.26787972,
          0.27241105,
          0.2613158
         ]
        },
        {
         "hovertemplate": "Year: %{text}<br>gdp: %{x:.1f} k$<br>Gini: %{y:.2f}",
         "line": {
          "shape": "spline",
          "smoothing": 0.1
         },
         "marker": {
          "angleref": "previous",
          "size": 12,
          "symbol": "arrow-bar-up"
         },
         "mode": "lines+markers+text",
         "name": "India",
         "text": [
          1993,
          2004,
          2009,
          2011,
          2015,
          2016,
          2017,
          2018,
          2019,
          2020,
          2021
         ],
         "textposition": "top center",
         "type": "scatter",
         "visible": "legendonly",
         "x": [
          1.9085782,
          3.0370637,
          3.9372375,
          4.3742323999999995,
          5.4118755,
          5.789678,
          6.1120664,
          6.4361533,
          6.61713,
          6.1720425,
          6.677185000000001
         ],
         "y": [
          0.31555128,
          0.340089,
          0.34889016,
          0.3539906,
          0.3468829,
          0.34746763,
          0.3590051,
          0.34550628,
          0.33812764,
          0.33778515,
          0.3277978
         ]
        },
        {
         "hovertemplate": "Year: %{text}<br>gdp: %{x:.1f} k$<br>Gini: %{y:.2f}",
         "line": {
          "shape": "spline",
          "smoothing": 0.1
         },
         "marker": {
          "angleref": "previous",
          "size": 12,
          "symbol": "arrow-bar-up"
         },
         "mode": "lines+markers+text",
         "name": "Indonesia",
         "text": [
          1990,
          1993,
          1996,
          1998,
          1999,
          2000,
          2001,
          2002,
          2003,
          2004,
          2005,
          2006,
          2007,
          2008,
          2009,
          2010,
          2011,
          2012,
          2013,
          2014,
          2015,
          2016,
          2017,
          2018,
          2019,
          2020,
          2021,
          2022
         ],
         "textposition": "top center",
         "type": "scatter",
         "visible": "legendonly",
         "x": [
          4.5197227,
          5.200023,
          6.2126714000000005,
          5.4745977,
          5.4357554,
          5.621262,
          5.7444939999999995,
          5.921077599999999,
          6.121666,
          6.3482943999999994,
          6.6256147,
          6.899851,
          7.242018,
          7.578205,
          7.828809000000001,
          8.212635,
          8.610529,
          9.015801,
          9.402108,
          9.759025,
          10.121841,
          10.519295,
          10.941921,
          11.397432,
          11.857789,
          11.515681,
          11.859437,
          12.409759
         ],
         "y": [
          0.31069273,
          0.31755003,
          0.3421382,
          0.30853918,
          0.30788496,
          0.30306277,
          0.31165913,
          0.30163765,
          0.29323187,
          0.30416507,
          0.2990362,
          0.31524122,
          0.33231717,
          0.3263291,
          0.33432707,
          0.3458631,
          0.37925914,
          0.3714888,
          0.38926852,
          0.3877997,
          0.38207534,
          0.368857,
          0.3636789,
          0.36338645,
          0.35359862,
          0.35335615,
          0.35504764,
          0.3551203
         ]
        },
        {
         "hovertemplate": "Year: %{text}<br>gdp: %{x:.1f} k$<br>Gini: %{y:.2f}",
         "line": {
          "shape": "spline",
          "smoothing": 0.1
         },
         "marker": {
          "angleref": "previous",
          "size": 12,
          "symbol": "arrow-bar-up"
         },
         "mode": "lines+markers+text",
         "name": "Iran",
         "text": [
          1990,
          1994,
          1998,
          2005,
          2006,
          2009,
          2011,
          2012,
          2013,
          2014,
          2015,
          2016,
          2017,
          2018,
          2019,
          2020,
          2021,
          2022
         ],
         "textposition": "top center",
         "type": "scatter",
         "visible": "legendonly",
         "x": [
          9.442248,
          9.904101,
          10.54784,
          13.328956,
          13.780728,
          14.473833,
          15.302202,
          14.54185,
          14.113458000000001,
          14.538521000000001,
          14.010858,
          14.968594999999999,
          15.163292,
          14.691184999999999,
          14.084354,
          14.432362,
          15.0046875,
          15.461079
         ],
         "y": [
          0.43604776,
          0.42998368,
          0.4409564,
          0.43558642,
          0.44752038,
          0.42050025,
          0.34661996,
          0.3442554,
          0.3396952,
          0.34814033,
          0.35264048,
          0.35912308,
          0.36693677,
          0.37419906,
          0.36482257,
          0.3584295,
          0.3546873,
          0.34803438
         ]
        },
        {
         "hovertemplate": "Year: %{text}<br>gdp: %{x:.1f} k$<br>Gini: %{y:.2f}",
         "line": {
          "shape": "spline",
          "smoothing": 0.1
         },
         "marker": {
          "angleref": "previous",
          "size": 12,
          "symbol": "arrow-bar-up"
         },
         "mode": "lines+markers+text",
         "name": "Iraq",
         "text": [
          2006,
          2012
         ],
         "textposition": "top center",
         "type": "scatter",
         "visible": "legendonly",
         "x": [
          7.2928869999999995,
          9.251982
         ],
         "y": [
          0.28600612,
          0.29541856
         ]
        },
        {
         "hovertemplate": "Year: %{text}<br>gdp: %{x:.1f} k$<br>Gini: %{y:.2f}",
         "line": {
          "shape": "spline",
          "smoothing": 0.1
         },
         "marker": {
          "angleref": "previous",
          "size": 12,
          "symbol": "arrow-bar-up"
         },
         "mode": "lines+markers+text",
         "name": "Ireland",
         "text": [
          1994,
          1995,
          1996,
          2000,
          2002,
          2003,
          2004,
          2005,
          2006,
          2007,
          2008,
          2009,
          2010,
          2011,
          2012,
          2013,
          2014,
          2015,
          2016,
          2017,
          2018,
          2019,
          2020,
          2021
         ],
         "textposition": "top center",
         "type": "scatter",
         "visible": "legendonly",
         "x": [
          29.865592,
          32.575525,
          34.70379,
          48.4417,
          52.279565999999996,
          52.98502,
          55.556625,
          57.479406000000004,
          58.741188,
          60.097656,
          56.244406000000005,
          52.838913999999995,
          53.43622,
          53.885113,
          53.587669999999996,
          53.932387000000006,
          58.266586000000004,
          71.84544,
          72.29321,
          78.16897,
          83.74615,
          86.984984,
          91.79144000000001,
          104.671875
         ],
         "y": [
          0.36914206,
          0.3704509,
          0.35622135,
          0.33005205,
          0.32290256,
          0.32887438,
          0.33609548,
          0.33753955,
          0.327276,
          0.31946594,
          0.3090567,
          0.32680362,
          0.32295024,
          0.32872406,
          0.33220077,
          0.3348598,
          0.31874627,
          0.31820488,
          0.32807183,
          0.31358823,
          0.30602926,
          0.308315,
          0.292282,
          0.30119276
         ]
        },
        {
         "hovertemplate": "Year: %{text}<br>gdp: %{x:.1f} k$<br>Gini: %{y:.2f}",
         "line": {
          "shape": "spline",
          "smoothing": 0.1
         },
         "marker": {
          "angleref": "previous",
          "size": 12,
          "symbol": "arrow-bar-up"
         },
         "mode": "lines+markers+text",
         "name": "Israel",
         "text": [
          1997,
          2001,
          2002,
          2003,
          2004,
          2005,
          2006,
          2007,
          2008,
          2009,
          2010,
          2011,
          2012,
          2013,
          2014,
          2015,
          2016,
          2017,
          2018,
          2019,
          2020,
          2021
         ],
         "textposition": "top center",
         "type": "scatter",
         "visible": "legendonly",
         "x": [
          28.091146000000002,
          29.865869999999997,
          29.236936,
          29.114041,
          29.97248,
          30.66616,
          31.810796999999997,
          33.13622,
          33.61107,
          33.107035,
          34.350449999999995,
          35.596754000000004,
          35.849883,
          36.740797,
          37.454809999999995,
          37.63282,
          38.57087,
          39.44814,
          40.270426,
          41.151008000000004,
          39.680664,
          42.379156
         ],
         "y": [
          0.38097107,
          0.38947663,
          0.39559424,
          0.4072257,
          0.414563,
          0.42267624,
          0.4155532,
          0.41098633,
          0.4164268,
          0.4263395,
          0.42559466,
          0.41444165,
          0.41302204,
          0.39870527,
          0.3975749,
          0.3971953,
          0.39013016,
          0.38202065,
          0.38577175,
          0.3828222,
          0.37773558,
          0.3789385
         ]
        },
        {
         "hovertemplate": "Year: %{text}<br>gdp: %{x:.1f} k$<br>Gini: %{y:.2f}",
         "line": {
          "shape": "spline",
          "smoothing": 0.1
         },
         "marker": {
          "angleref": "previous",
          "size": 12,
          "symbol": "arrow-bar-up"
         },
         "mode": "lines+markers+text",
         "name": "Italy",
         "text": [
          1991,
          1993,
          1995,
          1998,
          2000,
          2002,
          2003,
          2004,
          2005,
          2006,
          2007,
          2008,
          2009,
          2010,
          2011,
          2012,
          2013,
          2014,
          2015,
          2016,
          2017,
          2018,
          2019,
          2020,
          2021
         ],
         "textposition": "top center",
         "type": "scatter",
         "visible": "legendonly",
         "x": [
          37.12282,
          37.065434,
          38.947203,
          40.844746,
          43.053934,
          43.915387,
          43.781220000000005,
          44.118035000000006,
          44.26083,
          44.918169999999996,
          45.356535,
          44.623599999999996,
          42.07492,
          42.664355,
          42.892305,
          41.501709999999996,
          40.268113,
          39.898527,
          40.24783,
          40.83774,
          41.581120000000006,
          42.045919999999995,
          42.739050000000006,
          39.093523,
          42.562555
         ],
         "y": [
          0.31049928,
          0.35086337,
          0.3521082,
          0.36652306,
          0.35244772,
          0.34695667,
          0.349287,
          0.3429304,
          0.33830953,
          0.3369475,
          0.32888263,
          0.3376773,
          0.3383298,
          0.3471675,
          0.35052994,
          0.3515148,
          0.3490567,
          0.34652385,
          0.35390034,
          0.35239598,
          0.35922197,
          0.35217315,
          0.34583586,
          0.352409,
          0.3484458
         ]
        },
        {
         "hovertemplate": "Year: %{text}<br>gdp: %{x:.1f} k$<br>Gini: %{y:.2f}",
         "line": {
          "shape": "spline",
          "smoothing": 0.1
         },
         "marker": {
          "angleref": "previous",
          "size": 12,
          "symbol": "arrow-bar-up"
         },
         "mode": "lines+markers+text",
         "name": "Jamaica",
         "text": [
          1990,
          1993,
          1996,
          1999,
          2002,
          2004,
          2018,
          2021
         ],
         "textposition": "top center",
         "type": "scatter",
         "visible": "legendonly",
         "x": [
          8.692502000000001,
          9.889121999999999,
          9.951084999999999,
          9.471599,
          9.719603,
          10.110535,
          10.160763999999999,
          9.605191000000001
         ],
         "y": [
          0.41113734,
          0.35673422,
          0.40394902,
          0.4407876,
          0.4831574,
          0.45457473,
          0.3563868,
          0.4021027
         ]
        },
        {
         "hovertemplate": "Year: %{text}<br>gdp: %{x:.1f} k$<br>Gini: %{y:.2f}",
         "line": {
          "shape": "spline",
          "smoothing": 0.1
         },
         "marker": {
          "angleref": "previous",
          "size": 12,
          "symbol": "arrow-bar-up"
         },
         "mode": "lines+markers+text",
         "name": "Japan",
         "text": [
          2008,
          2010,
          2013
         ],
         "textposition": "top center",
         "type": "scatter",
         "visible": "legendonly",
         "x": [
          38.7812,
          38.069957,
          39.569637
         ],
         "y": [
          0.34842315,
          0.3210032,
          0.3285473
         ]
        },
        {
         "hovertemplate": "Year: %{text}<br>gdp: %{x:.1f} k$<br>Gini: %{y:.2f}",
         "line": {
          "shape": "spline",
          "smoothing": 0.1
         },
         "marker": {
          "angleref": "previous",
          "size": 12,
          "symbol": "arrow-bar-up"
         },
         "mode": "lines+markers+text",
         "name": "Jordan",
         "text": [
          1992,
          1997,
          2002,
          2006,
          2008,
          2010
         ],
         "textposition": "top center",
         "type": "scatter",
         "visible": "legendonly",
         "x": [
          8.500024999999999,
          8.530064,
          9.463036,
          10.862461999999999,
          11.540403,
          11.866881
         ],
         "y": [
          0.43099582,
          0.36420527,
          0.36954618,
          0.33856255,
          0.3257345,
          0.3365573
         ]
        },
        {
         "hovertemplate": "Year: %{text}<br>gdp: %{x:.1f} k$<br>Gini: %{y:.2f}",
         "line": {
          "shape": "spline",
          "smoothing": 0.1
         },
         "marker": {
          "angleref": "previous",
          "size": 12,
          "symbol": "arrow-bar-up"
         },
         "mode": "lines+markers+text",
         "name": "Kazakhstan",
         "text": [
          1993,
          1996,
          2001,
          2002,
          2003,
          2004,
          2005,
          2006,
          2007,
          2008,
          2009,
          2010,
          2011,
          2012,
          2013,
          2014,
          2015,
          2016,
          2017,
          2018,
          2019,
          2020,
          2021
         ],
         "textposition": "top center",
         "type": "scatter",
         "visible": "legendonly",
         "x": [
          10.292198,
          8.726538,
          11.682842,
          12.827231,
          13.973078,
          15.208440000000001,
          16.536016,
          18.112779999999997,
          19.500479,
          19.770217,
          19.614734000000002,
          20.751258,
          21.970084,
          22.702578000000003,
          23.720816,
          24.355756,
          24.290418000000003,
          24.210863,
          24.862967,
          25.544346,
          26.351805,
          25.361508,
          26.110529999999997
         ],
         "y": [
          0.32665735,
          0.35378307,
          0.3596447,
          0.34811127,
          0.33691478,
          0.3183876,
          0.39825976,
          0.30243865,
          0.30084056,
          0.28496444,
          0.28208867,
          0.27954513,
          0.27983844,
          0.2816882,
          0.2706543,
          0.2701586,
          0.26803666,
          0.27225325,
          0.27450275,
          0.27792874,
          0.27968282,
          0.2868392,
          0.29191533
         ]
        },
        {
         "hovertemplate": "Year: %{text}<br>gdp: %{x:.1f} k$<br>Gini: %{y:.2f}",
         "line": {
          "shape": "spline",
          "smoothing": 0.1
         },
         "marker": {
          "angleref": "previous",
          "size": 12,
          "symbol": "arrow-bar-up"
         },
         "mode": "lines+markers+text",
         "name": "Kenya",
         "text": [
          1992,
          1994,
          1997,
          2005,
          2015,
          2020,
          2021
         ],
         "textposition": "top center",
         "type": "scatter",
         "visible": "legendonly",
         "x": [
          3.4554915,
          3.3577103999999998,
          3.3798964999999996,
          3.399404,
          4.163925,
          4.497363,
          4.745636999999999
         ],
         "y": [
          0.56925327,
          0.43103355,
          0.44982657,
          0.46440154,
          0.4077446,
          0.36246458,
          0.3870143
         ]
        },
        {
         "hovertemplate": "Year: %{text}<br>gdp: %{x:.1f} k$<br>Gini: %{y:.2f}",
         "line": {
          "shape": "spline",
          "smoothing": 0.1
         },
         "marker": {
          "angleref": "previous",
          "size": 12,
          "symbol": "arrow-bar-up"
         },
         "mode": "lines+markers+text",
         "name": "Kiribati",
         "text": [
          2006,
          2019
         ],
         "textposition": "top center",
         "type": "scatter",
         "visible": "legendonly",
         "x": [
          1.971433,
          1.9635349000000002
         ],
         "y": [
          0.36973003,
          0.27832702
         ]
        },
        {
         "hovertemplate": "Year: %{text}<br>gdp: %{x:.1f} k$<br>Gini: %{y:.2f}",
         "line": {
          "shape": "spline",
          "smoothing": 0.1
         },
         "marker": {
          "angleref": "previous",
          "size": 12,
          "symbol": "arrow-bar-up"
         },
         "mode": "lines+markers+text",
         "name": "Kosovo",
         "text": [
          2009,
          2010,
          2011,
          2012,
          2013,
          2014,
          2015,
          2016,
          2017
         ],
         "textposition": "top center",
         "type": "scatter",
         "visible": "legendonly",
         "x": [
          7.3274539999999995,
          7.6279087,
          8.0406064,
          8.1053877,
          8.48657,
          8.796634,
          9.445106,
          10.031048,
          10.436169
         ],
         "y": [
          0.31781715,
          0.33254302,
          0.27831748,
          0.28972268,
          0.2630659,
          0.2727017,
          0.26454154,
          0.26721144,
          0.29012942
         ]
        },
        {
         "hovertemplate": "Year: %{text}<br>gdp: %{x:.1f} k$<br>Gini: %{y:.2f}",
         "line": {
          "shape": "spline",
          "smoothing": 0.1
         },
         "marker": {
          "angleref": "previous",
          "size": 12,
          "symbol": "arrow-bar-up"
         },
         "mode": "lines+markers+text",
         "name": "Kyrgyzstan",
         "text": [
          2000,
          2001,
          2002,
          2003,
          2004,
          2005,
          2006,
          2007,
          2008,
          2009,
          2010,
          2011,
          2012,
          2013,
          2014,
          2015,
          2016,
          2017,
          2018,
          2019,
          2020,
          2021,
          2022
         ],
         "textposition": "top center",
         "type": "scatter",
         "visible": "legendonly",
         "x": [
          3.0789092,
          3.2121334999999998,
          3.182233,
          3.3704302,
          3.5638752,
          3.5177205,
          3.5880898,
          3.8576538,
          4.1422114,
          4.2106265,
          4.141077,
          4.3346606,
          4.2593184,
          4.6314033,
          4.722086,
          4.805141,
          4.9123823,
          5.046691399999999,
          5.133152,
          5.2583667,
          4.7906587,
          4.9100864,
          5.0701504
         ],
         "y": [
          0.31035012,
          0.3016398,
          0.30302387,
          0.28708646,
          0.3477343,
          0.32561377,
          0.3738124,
          0.3391182,
          0.3145067,
          0.29874134,
          0.30133882,
          0.27839768,
          0.27356887,
          0.2881479,
          0.26819003,
          0.2899781,
          0.26780704,
          0.2733501,
          0.27690327,
          0.2970068,
          0.28989273,
          0.2879339,
          0.26352528
         ]
        },
        {
         "hovertemplate": "Year: %{text}<br>gdp: %{x:.1f} k$<br>Gini: %{y:.2f}",
         "line": {
          "shape": "spline",
          "smoothing": 0.1
         },
         "marker": {
          "angleref": "previous",
          "size": 12,
          "symbol": "arrow-bar-up"
         },
         "mode": "lines+markers+text",
         "name": "Laos",
         "text": [
          1992,
          1997,
          2002,
          2007,
          2012,
          2018
         ],
         "textposition": "top center",
         "type": "scatter",
         "visible": "legendonly",
         "x": [
          2.0193914,
          2.5056243,
          3.043483,
          3.9881697,
          5.4348345,
          7.5463344999999995
         ],
         "y": [
          0.34309775,
          0.34894043,
          0.32620108,
          0.35361034,
          0.35963547,
          0.38802433
         ]
        },
        {
         "hovertemplate": "Year: %{text}<br>gdp: %{x:.1f} k$<br>Gini: %{y:.2f}",
         "line": {
          "shape": "spline",
          "smoothing": 0.1
         },
         "marker": {
          "angleref": "previous",
          "size": 12,
          "symbol": "arrow-bar-up"
         },
         "mode": "lines+markers+text",
         "name": "Latvia",
         "text": [
          1995,
          1996,
          2004,
          2005,
          2006,
          2007,
          2008,
          2009,
          2010,
          2011,
          2012,
          2013,
          2014,
          2015,
          2016,
          2017,
          2018,
          2019,
          2020,
          2021
         ],
         "textposition": "top center",
         "type": "scatter",
         "visible": "legendonly",
         "x": [
          9.599146000000001,
          9.959121,
          18.16575,
          20.3317,
          22.975562,
          25.466783,
          24.899646,
          21.704324,
          21.173402,
          22.117406,
          23.970453000000003,
          24.715066,
          25.423488000000003,
          26.628355,
          27.509335999999998,
          28.673562,
          30.051018,
          30.438453000000003,
          29.575568,
          31.833842
         ],
         "y": [
          0.30977485,
          0.31590763,
          0.36382675,
          0.38973203,
          0.35597068,
          0.37461132,
          0.37211615,
          0.35945752,
          0.35030317,
          0.3577261,
          0.35236055,
          0.3549739,
          0.3511365,
          0.342025,
          0.34328857,
          0.35571036,
          0.35095716,
          0.34489113,
          0.35703966,
          0.3425585
         ]
        },
        {
         "hovertemplate": "Year: %{text}<br>gdp: %{x:.1f} k$<br>Gini: %{y:.2f}",
         "line": {
          "shape": "spline",
          "smoothing": 0.1
         },
         "marker": {
          "angleref": "previous",
          "size": 12,
          "symbol": "arrow-bar-up"
         },
         "mode": "lines+markers+text",
         "name": "Lebanon",
         "text": [
          2011
         ],
         "textposition": "top center",
         "type": "scatter",
         "visible": "legendonly",
         "x": [
          19.19392
         ],
         "y": [
          0.3183245
         ]
        },
        {
         "hovertemplate": "Year: %{text}<br>gdp: %{x:.1f} k$<br>Gini: %{y:.2f}",
         "line": {
          "shape": "spline",
          "smoothing": 0.1
         },
         "marker": {
          "angleref": "previous",
          "size": 12,
          "symbol": "arrow-bar-up"
         },
         "mode": "lines+markers+text",
         "name": "Lesotho",
         "text": [
          1994,
          2002,
          2017
         ],
         "textposition": "top center",
         "type": "scatter",
         "visible": "legendonly",
         "x": [
          1.4954725,
          1.788567,
          2.571074
         ],
         "y": [
          0.63020104,
          0.51206875,
          0.44877714
         ]
        },
        {
         "hovertemplate": "Year: %{text}<br>gdp: %{x:.1f} k$<br>Gini: %{y:.2f}",
         "line": {
          "shape": "spline",
          "smoothing": 0.1
         },
         "marker": {
          "angleref": "previous",
          "size": 12,
          "symbol": "arrow-bar-up"
         },
         "mode": "lines+markers+text",
         "name": "Liberia",
         "text": [
          2007,
          2014,
          2016
         ],
         "textposition": "top center",
         "type": "scatter",
         "visible": "legendonly",
         "x": [
          1.3114453000000001,
          1.6138655000000002,
          1.525458
         ],
         "y": [
          0.3643565,
          0.33237883,
          0.35265347
         ]
        },
        {
         "hovertemplate": "Year: %{text}<br>gdp: %{x:.1f} k$<br>Gini: %{y:.2f}",
         "line": {
          "shape": "spline",
          "smoothing": 0.1
         },
         "marker": {
          "angleref": "previous",
          "size": 12,
          "symbol": "arrow-bar-up"
         },
         "mode": "lines+markers+text",
         "name": "Lithuania",
         "text": [
          2004,
          2005,
          2006,
          2007,
          2008,
          2009,
          2010,
          2011,
          2012,
          2013,
          2014,
          2015,
          2016,
          2017,
          2018,
          2019,
          2020,
          2021
         ],
         "textposition": "top center",
         "type": "scatter",
         "visible": "legendonly",
         "x": [
          19.226469,
          21.053186,
          22.977995999999997,
          25.835366999999998,
          26.78488,
          23.065062,
          23.94276,
          25.968584,
          27.330896,
          28.589026999999998,
          29.855832,
          30.748197,
          31.925803,
          33.76187,
          35.446707,
          37.198875,
          37.179766,
          39.432402
         ],
         "y": [
          0.37011144,
          0.35296747,
          0.34414476,
          0.34789148,
          0.35727036,
          0.372185,
          0.33608764,
          0.3248645,
          0.35092333,
          0.35307336,
          0.37675053,
          0.3737032,
          0.38385862,
          0.3728361,
          0.35705343,
          0.35251358,
          0.35956645,
          0.36656412
         ]
        },
        {
         "hovertemplate": "Year: %{text}<br>gdp: %{x:.1f} k$<br>Gini: %{y:.2f}",
         "line": {
          "shape": "spline",
          "smoothing": 0.1
         },
         "marker": {
          "angleref": "previous",
          "size": 12,
          "symbol": "arrow-bar-up"
         },
         "mode": "lines+markers+text",
         "name": "Luxembourg",
         "text": [
          1990,
          1991,
          1992,
          1993,
          1994,
          1995,
          1996,
          1997,
          1998,
          1999,
          2000,
          2001,
          2002,
          2003,
          2004,
          2005,
          2006,
          2007,
          2008,
          2009,
          2010,
          2011,
          2012,
          2013,
          2014,
          2015,
          2016,
          2017,
          2018,
          2019,
          2020,
          2021
         ],
         "textposition": "top center",
         "type": "scatter",
         "visible": "legendonly",
         "x": [
          70.86082,
          75.96167,
          76.32330499999999,
          78.46892,
          80.36523,
          80.379125,
          80.40103,
          83.70281,
          88.1858,
          94.11538,
          99.30152000000001,
          101.14314999999999,
          103.31733,
          104.743,
          107.63483599999999,
          108.63236,
          113.34603999999999,
          120.64782000000001,
          118.15466400000001,
          112.23008,
          114.34398399999999,
          112.99839,
          112.13713,
          113.050664,
          113.31358,
          113.18272999999999,
          116.2837,
          114.98584,
          114.16447,
          115.20960000000001,
          112.27482,
          118.51
         ],
         "y": [
          0.2770192,
          0.2717853,
          0.27309504,
          0.27047905,
          0.28147867,
          0.28301048,
          0.29043368,
          0.2957325,
          0.30605367,
          0.30041057,
          0.30102962,
          0.30926323,
          0.3098299,
          0.30187473,
          0.30172697,
          0.30840808,
          0.3094812,
          0.31133747,
          0.32561544,
          0.31196916,
          0.3050438,
          0.3205409,
          0.3434715,
          0.32035962,
          0.31158078,
          0.32921496,
          0.31727898,
          0.34515306,
          0.35367873,
          0.34241158,
          0.3337364,
          0.3273477
         ]
        },
        {
         "hovertemplate": "Year: %{text}<br>gdp: %{x:.1f} k$<br>Gini: %{y:.2f}",
         "line": {
          "shape": "spline",
          "smoothing": 0.1
         },
         "marker": {
          "angleref": "previous",
          "size": 12,
          "symbol": "arrow-bar-up"
         },
         "mode": "lines+markers+text",
         "name": "Madagascar",
         "text": [
          1993,
          1997,
          1999,
          2001,
          2005,
          2010,
          2012
         ],
         "textposition": "top center",
         "type": "scatter",
         "visible": "legendonly",
         "x": [
          1.5977694,
          1.5154465,
          1.5490308,
          1.6143857000000001,
          1.5220697,
          1.5119867,
          1.4970094999999999
         ],
         "y": [
          0.45207667,
          0.3943274,
          0.38583288,
          0.4741719,
          0.39928237,
          0.4238018,
          0.42551258
         ]
        },
        {
         "hovertemplate": "Year: %{text}<br>gdp: %{x:.1f} k$<br>Gini: %{y:.2f}",
         "line": {
          "shape": "spline",
          "smoothing": 0.1
         },
         "marker": {
          "angleref": "previous",
          "size": 12,
          "symbol": "arrow-bar-up"
         },
         "mode": "lines+markers+text",
         "name": "Malawi",
         "text": [
          1997,
          2004,
          2010,
          2016,
          2019
         ],
         "textposition": "top center",
         "type": "scatter",
         "visible": "legendonly",
         "x": [
          1.09672,
          1.0878655000000002,
          1.3547054,
          1.4370421,
          1.5177030999999999
         ],
         "y": [
          0.6575494,
          0.3987172,
          0.45470712,
          0.44694027,
          0.38542363
         ]
        },
        {
         "hovertemplate": "Year: %{text}<br>gdp: %{x:.1f} k$<br>Gini: %{y:.2f}",
         "line": {
          "shape": "spline",
          "smoothing": 0.1
         },
         "marker": {
          "angleref": "previous",
          "size": 12,
          "symbol": "arrow-bar-up"
         },
         "mode": "lines+markers+text",
         "name": "Malaysia",
         "text": [
          1992,
          1995,
          1997,
          2003,
          2006,
          2008,
          2011,
          2013,
          2015,
          2018,
          2021
         ],
         "textposition": "top center",
         "type": "scatter",
         "visible": "legendonly",
         "x": [
          11.963267,
          14.508458000000001,
          16.231797,
          16.723924,
          18.535053,
          19.792265999999998,
          20.90032,
          22.350906,
          24.151256,
          26.835807,
          26.407315999999998
         ],
         "y": [
          0.47653723,
          0.48522663,
          0.49149647,
          0.4641619,
          0.4475235,
          0.45479712,
          0.43943596,
          0.41348827,
          0.410664,
          0.41176775,
          0.40668428
         ]
        },
        {
         "hovertemplate": "Year: %{text}<br>gdp: %{x:.1f} k$<br>Gini: %{y:.2f}",
         "line": {
          "shape": "spline",
          "smoothing": 0.1
         },
         "marker": {
          "angleref": "previous",
          "size": 12,
          "symbol": "arrow-bar-up"
         },
         "mode": "lines+markers+text",
         "name": "Maldives",
         "text": [
          2002,
          2009,
          2016,
          2019
         ],
         "textposition": "top center",
         "type": "scatter",
         "visible": "legendonly",
         "x": [
          13.50893,
          16.020293,
          18.674303,
          20.988092
         ],
         "y": [
          0.41312027,
          0.38372764,
          0.31285647,
          0.2928509
         ]
        },
        {
         "hovertemplate": "Year: %{text}<br>gdp: %{x:.1f} k$<br>Gini: %{y:.2f}",
         "line": {
          "shape": "spline",
          "smoothing": 0.1
         },
         "marker": {
          "angleref": "previous",
          "size": 12,
          "symbol": "arrow-bar-up"
         },
         "mode": "lines+markers+text",
         "name": "Mali",
         "text": [
          1994,
          2001,
          2006,
          2009,
          2018,
          2021
         ],
         "textposition": "top center",
         "type": "scatter",
         "visible": "legendonly",
         "x": [
          1.4255117,
          1.7746823999999999,
          1.9225261,
          1.9800592,
          2.1855757,
          2.1206233
         ],
         "y": [
          0.50157577,
          0.3986669,
          0.3892922,
          0.3303452,
          0.3596336,
          0.35653594
         ]
        },
        {
         "hovertemplate": "Year: %{text}<br>gdp: %{x:.1f} k$<br>Gini: %{y:.2f}",
         "line": {
          "shape": "spline",
          "smoothing": 0.1
         },
         "marker": {
          "angleref": "previous",
          "size": 12,
          "symbol": "arrow-bar-up"
         },
         "mode": "lines+markers+text",
         "name": "Malta",
         "text": [
          2006,
          2007,
          2008,
          2009,
          2010,
          2011,
          2012,
          2013,
          2014,
          2015,
          2016,
          2017,
          2018,
          2019,
          2020
         ],
         "textposition": "top center",
         "type": "scatter",
         "visible": "legendonly",
         "x": [
          29.655652,
          30.963447,
          31.939725,
          31.340398,
          32.915723,
          32.929637,
          33.978663999999995,
          35.33876600000001,
          37.284402,
          39.903040000000004,
          40.318957000000005,
          43.493727,
          45.116074,
          46.438663999999996,
          41.753811999999996
         ],
         "y": [
          0.28019977,
          0.29207736,
          0.28995508,
          0.30244455,
          0.29025772,
          0.2914213,
          0.29360434,
          0.28843665,
          0.29020345,
          0.29433772,
          0.29089025,
          0.2923224,
          0.28665087,
          0.31041777,
          0.3140378
         ]
        },
        {
         "hovertemplate": "Year: %{text}<br>gdp: %{x:.1f} k$<br>Gini: %{y:.2f}",
         "line": {
          "shape": "spline",
          "smoothing": 0.1
         },
         "marker": {
          "angleref": "previous",
          "size": 12,
          "symbol": "arrow-bar-up"
         },
         "mode": "lines+markers+text",
         "name": "Marshall Islands",
         "text": [
          2019
         ],
         "textposition": "top center",
         "type": "scatter",
         "visible": "legendonly",
         "x": [
          5.719189999999999
         ],
         "y": [
          0.35482943
         ]
        },
        {
         "hovertemplate": "Year: %{text}<br>gdp: %{x:.1f} k$<br>Gini: %{y:.2f}",
         "line": {
          "shape": "spline",
          "smoothing": 0.1
         },
         "marker": {
          "angleref": "previous",
          "size": 12,
          "symbol": "arrow-bar-up"
         },
         "mode": "lines+markers+text",
         "name": "Mauritania",
         "text": [
          1993,
          1995,
          2000,
          2004,
          2008,
          2014,
          2019
         ],
         "textposition": "top center",
         "type": "scatter",
         "visible": "legendonly",
         "x": [
          4.540363999999999,
          4.54266,
          4.1709,
          4.296542499999999,
          4.9148320000000005,
          5.020135,
          5.3929326
         ],
         "y": [
          0.49523884,
          0.37747362,
          0.39028475,
          0.40168753,
          0.35685378,
          0.3261935,
          0.31996742
         ]
        },
        {
         "hovertemplate": "Year: %{text}<br>gdp: %{x:.1f} k$<br>Gini: %{y:.2f}",
         "line": {
          "shape": "spline",
          "smoothing": 0.1
         },
         "marker": {
          "angleref": "previous",
          "size": 12,
          "symbol": "arrow-bar-up"
         },
         "mode": "lines+markers+text",
         "name": "Mauritius",
         "text": [
          2006,
          2012,
          2017
         ],
         "textposition": "top center",
         "type": "scatter",
         "visible": "legendonly",
         "x": [
          14.599260000000001,
          18.566029999999998,
          22.143826
         ],
         "y": [
          0.3565342,
          0.384654,
          0.36761206
         ]
        },
        {
         "hovertemplate": "Year: %{text}<br>gdp: %{x:.1f} k$<br>Gini: %{y:.2f}",
         "line": {
          "shape": "spline",
          "smoothing": 0.1
         },
         "marker": {
          "angleref": "previous",
          "size": 12,
          "symbol": "arrow-bar-up"
         },
         "mode": "lines+markers+text",
         "name": "Mexico",
         "text": [
          1992,
          1994,
          1996,
          1998,
          2000,
          2002,
          2004,
          2005,
          2006,
          2008,
          2010,
          2012,
          2014,
          2016,
          2018,
          2020,
          2022
         ],
         "textposition": "top center",
         "type": "scatter",
         "visible": "legendonly",
         "x": [
          16.950371,
          17.517969,
          16.882044999999998,
          18.571719,
          19.407033,
          18.692535,
          19.017754,
          19.144014,
          19.792758000000003,
          19.874416,
          19.054357,
          19.842564,
          19.994502,
          20.423559,
          20.789361,
          18.639662,
          20.254780999999998
         ],
         "y": [
          0.52310747,
          0.5342225,
          0.51971495,
          0.532833,
          0.53417677,
          0.50582963,
          0.50343114,
          0.509391,
          0.49712282,
          0.50843656,
          0.47658002,
          0.49597254,
          0.48912397,
          0.4691244,
          0.4595491,
          0.44594344,
          0.4345403
         ]
        },
        {
         "hovertemplate": "Year: %{text}<br>gdp: %{x:.1f} k$<br>Gini: %{y:.2f}",
         "line": {
          "shape": "spline",
          "smoothing": 0.1
         },
         "marker": {
          "angleref": "previous",
          "size": 12,
          "symbol": "arrow-bar-up"
         },
         "mode": "lines+markers+text",
         "name": "Micronesia (country)",
         "text": [
          2005,
          2013
         ],
         "textposition": "top center",
         "type": "scatter",
         "visible": "legendonly",
         "x": [
          3.430456,
          3.3820124999999996
         ],
         "y": [
          0.423558,
          0.4005239
         ]
        },
        {
         "hovertemplate": "Year: %{text}<br>gdp: %{x:.1f} k$<br>Gini: %{y:.2f}",
         "line": {
          "shape": "spline",
          "smoothing": 0.1
         },
         "marker": {
          "angleref": "previous",
          "size": 12,
          "symbol": "arrow-bar-up"
         },
         "mode": "lines+markers+text",
         "name": "Moldova",
         "text": [
          1997,
          1998,
          1999,
          2000,
          2001,
          2002,
          2003,
          2004,
          2005,
          2006,
          2007,
          2008,
          2009,
          2010,
          2011,
          2012,
          2013,
          2014,
          2015,
          2016,
          2017,
          2018,
          2019,
          2021
         ],
         "textposition": "top center",
         "type": "scatter",
         "visible": "legendonly",
         "x": [
          5.405559599999999,
          5.053959,
          4.891403,
          5.004667499999999,
          5.32184,
          5.7502439999999995,
          6.1470464,
          6.618284,
          7.131988000000001,
          7.495125,
          7.737888,
          8.357337,
          7.8658220000000005,
          8.432709000000001,
          8.928501,
          8.87701,
          9.682428,
          10.172714,
          10.216370999999999,
          10.81609,
          11.464019,
          12.14273,
          12.776922,
          13.703939
         ],
         "y": [
          0.3694212,
          0.39518264,
          0.42623976,
          0.36424187,
          0.37987787,
          0.3584591,
          0.34902084,
          0.35029566,
          0.36280838,
          0.35399717,
          0.34421042,
          0.34692442,
          0.32910907,
          0.3205092,
          0.30628577,
          0.2915884,
          0.2853416,
          0.26833853,
          0.27028158,
          0.26345387,
          0.25899243,
          0.25661647,
          0.26016647,
          0.25731638
         ]
        },
        {
         "hovertemplate": "Year: %{text}<br>gdp: %{x:.1f} k$<br>Gini: %{y:.2f}",
         "line": {
          "shape": "spline",
          "smoothing": 0.1
         },
         "marker": {
          "angleref": "previous",
          "size": 12,
          "symbol": "arrow-bar-up"
         },
         "mode": "lines+markers+text",
         "name": "Mongolia",
         "text": [
          1995,
          1998,
          2002,
          2007,
          2010,
          2011,
          2012,
          2014,
          2016,
          2018,
          2022
         ],
         "textposition": "top center",
         "type": "scatter",
         "visible": "legendonly",
         "x": [
          4.0667532,
          4.32508,
          4.687444999999999,
          6.8189937,
          7.5188310000000005,
          8.685780000000001,
          9.586715,
          11.107989,
          11.058950000000001,
          12.052294,
          12.073245
         ],
         "y": [
          0.3319534,
          0.30271962,
          0.32892948,
          0.3582187,
          0.33081213,
          0.33883506,
          0.33751616,
          0.3203779,
          0.32345733,
          0.3274099,
          0.31416476
         ]
        },
        {
         "hovertemplate": "Year: %{text}<br>gdp: %{x:.1f} k$<br>Gini: %{y:.2f}",
         "line": {
          "shape": "spline",
          "smoothing": 0.1
         },
         "marker": {
          "angleref": "previous",
          "size": 12,
          "symbol": "arrow-bar-up"
         },
         "mode": "lines+markers+text",
         "name": "Montenegro",
         "text": [
          2012,
          2013,
          2014,
          2015,
          2016,
          2017,
          2018,
          2019,
          2020,
          2021
         ],
         "textposition": "top center",
         "type": "scatter",
         "visible": "legendonly",
         "x": [
          16.802506,
          17.381852,
          17.674734,
          18.263724999999997,
          18.798021000000002,
          19.68241,
          20.686713,
          21.53409,
          18.259083999999998,
          20.710535
         ],
         "y": [
          0.4120649,
          0.39021727,
          0.38769355,
          0.39005032,
          0.38467047,
          0.36881563,
          0.36809078,
          0.35665408,
          0.35412416,
          0.34297183
         ]
        },
        {
         "hovertemplate": "Year: %{text}<br>gdp: %{x:.1f} k$<br>Gini: %{y:.2f}",
         "line": {
          "shape": "spline",
          "smoothing": 0.1
         },
         "marker": {
          "angleref": "previous",
          "size": 12,
          "symbol": "arrow-bar-up"
         },
         "mode": "lines+markers+text",
         "name": "Morocco",
         "text": [
          1990,
          1998,
          2000,
          2006,
          2013
         ],
         "textposition": "top center",
         "type": "scatter",
         "visible": "legendonly",
         "x": [
          4.119872,
          4.702235,
          4.771347,
          6.0854814,
          7.3622026
         ],
         "y": [
          0.39206904,
          0.39353913,
          0.40636948,
          0.40718302,
          0.39548507
         ]
        },
        {
         "hovertemplate": "Year: %{text}<br>gdp: %{x:.1f} k$<br>Gini: %{y:.2f}",
         "line": {
          "shape": "spline",
          "smoothing": 0.1
         },
         "marker": {
          "angleref": "previous",
          "size": 12,
          "symbol": "arrow-bar-up"
         },
         "mode": "lines+markers+text",
         "name": "Mozambique",
         "text": [
          1996,
          2002,
          2008,
          2014,
          2019
         ],
         "textposition": "top center",
         "type": "scatter",
         "visible": "legendonly",
         "x": [
          0.49371027,
          0.73077313,
          0.97538965,
          1.2280465999999999,
          1.2901674
         ],
         "y": [
          0.53288776,
          0.4695471,
          0.45489126,
          0.53956276,
          0.50274074
         ]
        },
        {
         "hovertemplate": "Year: %{text}<br>gdp: %{x:.1f} k$<br>Gini: %{y:.2f}",
         "line": {
          "shape": "spline",
          "smoothing": 0.1
         },
         "marker": {
          "angleref": "previous",
          "size": 12,
          "symbol": "arrow-bar-up"
         },
         "mode": "lines+markers+text",
         "name": "Myanmar",
         "text": [
          2015,
          2017
         ],
         "textposition": "top center",
         "type": "scatter",
         "visible": "legendonly",
         "x": [
          4.214372999999999,
          4.6700806
         ],
         "y": [
          0.3806851,
          0.3069687
         ]
        },
        {
         "hovertemplate": "Year: %{text}<br>gdp: %{x:.1f} k$<br>Gini: %{y:.2f}",
         "line": {
          "shape": "spline",
          "smoothing": 0.1
         },
         "marker": {
          "angleref": "previous",
          "size": 12,
          "symbol": "arrow-bar-up"
         },
         "mode": "lines+markers+text",
         "name": "Namibia",
         "text": [
          1993,
          2003,
          2009,
          2015
         ],
         "textposition": "top center",
         "type": "scatter",
         "visible": "legendonly",
         "x": [
          6.4392510000000005,
          7.0461475,
          8.726682,
          10.813227000000001
         ],
         "y": [
          0.7105055,
          0.6331717,
          0.6096475,
          0.5906661
         ]
        },
        {
         "hovertemplate": "Year: %{text}<br>gdp: %{x:.1f} k$<br>Gini: %{y:.2f}",
         "line": {
          "shape": "spline",
          "smoothing": 0.1
         },
         "marker": {
          "angleref": "previous",
          "size": 12,
          "symbol": "arrow-bar-up"
         },
         "mode": "lines+markers+text",
         "name": "Nauru",
         "text": [
          2012
         ],
         "textposition": "top center",
         "type": "scatter",
         "visible": "legendonly",
         "x": [
          9.121933
         ],
         "y": [
          0.3236158
         ]
        },
        {
         "hovertemplate": "Year: %{text}<br>gdp: %{x:.1f} k$<br>Gini: %{y:.2f}",
         "line": {
          "shape": "spline",
          "smoothing": 0.1
         },
         "marker": {
          "angleref": "previous",
          "size": 12,
          "symbol": "arrow-bar-up"
         },
         "mode": "lines+markers+text",
         "name": "Nepal",
         "text": [
          1995,
          2003,
          2010,
          2022
         ],
         "textposition": "top center",
         "type": "scatter",
         "visible": "legendonly",
         "x": [
          1.760445,
          2.1076409,
          2.6826987,
          4.0017
         ],
         "y": [
          0.35207018,
          0.43768105,
          0.32840586,
          0.30020264
         ]
        },
        {
         "hovertemplate": "Year: %{text}<br>gdp: %{x:.1f} k$<br>Gini: %{y:.2f}",
         "line": {
          "shape": "spline",
          "smoothing": 0.1
         },
         "marker": {
          "angleref": "previous",
          "size": 12,
          "symbol": "arrow-bar-up"
         },
         "mode": "lines+markers+text",
         "name": "Netherlands",
         "text": [
          1990,
          1993,
          1999,
          2004,
          2005,
          2006,
          2007,
          2008,
          2009,
          2010,
          2011,
          2012,
          2013,
          2014,
          2015,
          2016,
          2017,
          2018,
          2019,
          2020,
          2021
         ],
         "textposition": "top center",
         "type": "scatter",
         "visible": "legendonly",
         "x": [
          36.461417999999995,
          37.613254,
          45.839133000000004,
          48.586703,
          49.467434000000004,
          51.097362999999994,
          52.90997,
          53.848254000000004,
          51.60760500000001,
          52.03299,
          52.59423,
          51.860055,
          51.640080000000005,
          52.186996,
          52.974117,
          53.84783,
          55.088633,
          56.060914,
          56.78404,
          54.275004,
          57.334703000000005
         ],
         "y": [
          0.31086653,
          0.3043144,
          0.28063396,
          0.29800007,
          0.2904823,
          0.30043328,
          0.2959278,
          0.29298013,
          0.27881998,
          0.2784524,
          0.27750087,
          0.2762093,
          0.2810648,
          0.2863142,
          0.2824158,
          0.2817357,
          0.28535804,
          0.28121036,
          0.29248324,
          0.2599421,
          0.2574387
         ]
        },
        {
         "hovertemplate": "Year: %{text}<br>gdp: %{x:.1f} k$<br>Gini: %{y:.2f}",
         "line": {
          "shape": "spline",
          "smoothing": 0.1
         },
         "marker": {
          "angleref": "previous",
          "size": 12,
          "symbol": "arrow-bar-up"
         },
         "mode": "lines+markers+text",
         "name": "Nicaragua",
         "text": [
          1993,
          1998,
          2001,
          2005,
          2009,
          2014
         ],
         "textposition": "top center",
         "type": "scatter",
         "visible": "legendonly",
         "x": [
          3.178389,
          3.6297207,
          3.9892185,
          4.3080483,
          4.4579326,
          5.3855073
         ],
         "y": [
          0.5712674,
          0.5437746,
          0.5287496,
          0.48820096,
          0.43941638,
          0.46156293
         ]
        },
        {
         "hovertemplate": "Year: %{text}<br>gdp: %{x:.1f} k$<br>Gini: %{y:.2f}",
         "line": {
          "shape": "spline",
          "smoothing": 0.1
         },
         "marker": {
          "angleref": "previous",
          "size": 12,
          "symbol": "arrow-bar-up"
         },
         "mode": "lines+markers+text",
         "name": "Niger",
         "text": [
          1992,
          1994,
          2005,
          2007,
          2011,
          2014,
          2018,
          2021
         ],
         "textposition": "top center",
         "type": "scatter",
         "visible": "legendonly",
         "x": [
          1.0286161999999999,
          0.98622046,
          0.9448124400000001,
          0.9600562,
          1.0102887600000001,
          1.1190948,
          1.1932727,
          1.1865299999999999
         ],
         "y": [
          0.3604249,
          0.4141697,
          0.44369024,
          0.3730385,
          0.31451714,
          0.34276575,
          0.37259424,
          0.32862565
         ]
        },
        {
         "hovertemplate": "Year: %{text}<br>gdp: %{x:.1f} k$<br>Gini: %{y:.2f}",
         "line": {
          "shape": "spline",
          "smoothing": 0.1
         },
         "marker": {
          "angleref": "previous",
          "size": 12,
          "symbol": "arrow-bar-up"
         },
         "mode": "lines+markers+text",
         "name": "Nigeria",
         "text": [
          1992,
          1996,
          2003,
          2010,
          2012,
          2015,
          2018
         ],
         "textposition": "top center",
         "type": "scatter",
         "visible": "legendonly",
         "x": [
          3.253034,
          2.9415613,
          3.5859946,
          4.857265999999999,
          5.0454717,
          5.4290996,
          5.089778
         ],
         "y": [
          0.44885525,
          0.51879764,
          0.40058756,
          0.3565021,
          0.35513008,
          0.35879776,
          0.35127744
         ]
        },
        {
         "hovertemplate": "Year: %{text}<br>gdp: %{x:.1f} k$<br>Gini: %{y:.2f}",
         "line": {
          "shape": "spline",
          "smoothing": 0.1
         },
         "marker": {
          "angleref": "previous",
          "size": 12,
          "symbol": "arrow-bar-up"
         },
         "mode": "lines+markers+text",
         "name": "North Macedonia",
         "text": [
          2009,
          2010,
          2011,
          2012,
          2013,
          2014,
          2015,
          2016,
          2017,
          2018,
          2019
         ],
         "textposition": "top center",
         "type": "scatter",
         "visible": "legendonly",
         "x": [
          13.103507,
          13.515063,
          13.807549000000002,
          13.727856,
          14.108977000000001,
          14.596688,
          15.139344,
          15.553533999999999,
          15.70654,
          16.145634,
          16.773143
         ],
         "y": [
          0.42760608,
          0.40062812,
          0.39360264,
          0.38132146,
          0.36238977,
          0.35201505,
          0.35590458,
          0.3453449,
          0.34198847,
          0.32960445,
          0.33505824
         ]
        },
        {
         "hovertemplate": "Year: %{text}<br>gdp: %{x:.1f} k$<br>Gini: %{y:.2f}",
         "line": {
          "shape": "spline",
          "smoothing": 0.1
         },
         "marker": {
          "angleref": "previous",
          "size": 12,
          "symbol": "arrow-bar-up"
         },
         "mode": "lines+markers+text",
         "name": "Norway",
         "text": [
          1991,
          1995,
          2000,
          2003,
          2004,
          2005,
          2006,
          2007,
          2008,
          2009,
          2010,
          2011,
          2012,
          2013,
          2014,
          2015,
          2016,
          2017,
          2018,
          2019
         ],
         "textposition": "top center",
         "type": "scatter",
         "visible": "legendonly",
         "x": [
          43.399758,
          49.454440000000005,
          57.473184,
          59.05957,
          61.06863,
          62.282758,
          63.303926,
          64.47798999999999,
          63.986246,
          61.95836,
          61.672959999999996,
          61.551215,
          62.399167999999996,
          62.275690000000004,
          62.838516000000006,
          63.371887,
          63.547688,
          64.589555,
          64.696473,
          64.983355
         ],
         "y": [
          0.25226194,
          0.26019552,
          0.27358785,
          0.2762688,
          0.3157802,
          0.30596998,
          0.2635382,
          0.27090636,
          0.26996335,
          0.2615822,
          0.2572369,
          0.25300157,
          0.25725982,
          0.26361105,
          0.26752558,
          0.27496743,
          0.28493318,
          0.2698671,
          0.27560204,
          0.2774182
         ]
        },
        {
         "hovertemplate": "Year: %{text}<br>gdp: %{x:.1f} k$<br>Gini: %{y:.2f}",
         "line": {
          "shape": "spline",
          "smoothing": 0.1
         },
         "marker": {
          "angleref": "previous",
          "size": 12,
          "symbol": "arrow-bar-up"
         },
         "mode": "lines+markers+text",
         "name": "Pakistan",
         "text": [
          1990,
          1996,
          1998,
          2001,
          2004,
          2005,
          2007,
          2010,
          2011,
          2013,
          2015,
          2018
         ],
         "textposition": "top center",
         "type": "scatter",
         "visible": "legendonly",
         "x": [
          3.0341133,
          3.3542964,
          3.277887,
          3.3550503,
          3.6500916,
          3.8320789,
          4.0684077,
          4.0823376,
          4.104196,
          4.2683599999999995,
          4.5078755,
          5.113434
         ],
         "y": [
          0.33248037,
          0.28664988,
          0.33123294,
          0.2865302,
          0.30886108,
          0.31261253,
          0.29669502,
          0.28780863,
          0.29697958,
          0.29528573,
          0.31291267,
          0.29589266
         ]
        },
        {
         "hovertemplate": "Year: %{text}<br>gdp: %{x:.1f} k$<br>Gini: %{y:.2f}",
         "line": {
          "shape": "spline",
          "smoothing": 0.1
         },
         "marker": {
          "angleref": "previous",
          "size": 12,
          "symbol": "arrow-bar-up"
         },
         "mode": "lines+markers+text",
         "name": "Palestine",
         "text": [
          2004,
          2005,
          2006,
          2007,
          2009,
          2010,
          2011,
          2016
         ],
         "textposition": "top center",
         "type": "scatter",
         "visible": "legendonly",
         "x": [
          4.4855254,
          4.8660283,
          4.6959946,
          4.7509296999999995,
          5.250116,
          5.411066399999999,
          5.7826895,
          6.4389336
         ],
         "y": [
          0.3404466,
          0.34742624,
          0.3395928,
          0.35606077,
          0.34463975,
          0.3529443,
          0.34415236,
          0.3369004
         ]
        },
        {
         "hovertemplate": "Year: %{text}<br>gdp: %{x:.1f} k$<br>Gini: %{y:.2f}",
         "line": {
          "shape": "spline",
          "smoothing": 0.1
         },
         "marker": {
          "angleref": "previous",
          "size": 12,
          "symbol": "arrow-bar-up"
         },
         "mode": "lines+markers+text",
         "name": "Panama",
         "text": [
          1991,
          1995,
          1997,
          1998,
          1999,
          2000,
          2001,
          2002,
          2003,
          2004,
          2005,
          2006,
          2007,
          2008,
          2009,
          2010,
          2011,
          2012,
          2013,
          2014,
          2015,
          2016,
          2017,
          2018,
          2019,
          2021
         ],
         "textposition": "top center",
         "type": "scatter",
         "visible": "legendonly",
         "x": [
          12.012538000000001,
          13.214173,
          14.062381,
          14.795588,
          15.072460999999999,
          15.179442,
          14.970895,
          15.01056,
          15.34381,
          16.184114,
          17.019684,
          18.148076,
          19.949594,
          21.51659,
          21.391934000000003,
          22.237099999999998,
          24.316354999999998,
          26.223584,
          27.544794999999997,
          28.439953000000003,
          29.551367,
          30.481771000000002,
          31.638151999999998,
          32.25922,
          32.788332000000004,
          30.416793000000002
         ],
         "y": [
          0.5802924,
          0.576667,
          0.58143127,
          0.5736364,
          0.5635335,
          0.5659207,
          0.5670764,
          0.560917,
          0.5565018,
          0.54772496,
          0.5380034,
          0.54636407,
          0.52685326,
          0.5269304,
          0.51770425,
          0.516088,
          0.51347023,
          0.51739,
          0.51456016,
          0.5046555,
          0.50805664,
          0.50406915,
          0.49885073,
          0.49211547,
          0.49837545,
          0.5085843
         ]
        },
        {
         "hovertemplate": "Year: %{text}<br>gdp: %{x:.1f} k$<br>Gini: %{y:.2f}",
         "line": {
          "shape": "spline",
          "smoothing": 0.1
         },
         "marker": {
          "angleref": "previous",
          "size": 12,
          "symbol": "arrow-bar-up"
         },
         "mode": "lines+markers+text",
         "name": "Papua New Guinea",
         "text": [
          1996,
          2009
         ],
         "textposition": "top center",
         "type": "scatter",
         "visible": "legendonly",
         "x": [
          3.8197458,
          3.072682
         ],
         "y": [
          0.45765835,
          0.41850442
         ]
        },
        {
         "hovertemplate": "Year: %{text}<br>gdp: %{x:.1f} k$<br>Gini: %{y:.2f}",
         "line": {
          "shape": "spline",
          "smoothing": 0.1
         },
         "marker": {
          "angleref": "previous",
          "size": 12,
          "symbol": "arrow-bar-up"
         },
         "mode": "lines+markers+text",
         "name": "Paraguay",
         "text": [
          1990,
          1995,
          1997,
          1999,
          2001,
          2002,
          2003,
          2004,
          2005,
          2006,
          2007,
          2008,
          2009,
          2010,
          2011,
          2012,
          2013,
          2014,
          2015,
          2016,
          2017,
          2018,
          2019,
          2020,
          2021,
          2022
         ],
         "textposition": "top center",
         "type": "scatter",
         "visible": "legendonly",
         "x": [
          8.818629000000001,
          9.661069,
          9.774315,
          9.248593999999999,
          8.640303,
          8.515946,
          8.773138999999999,
          9.022798,
          9.113412,
          9.451761000000001,
          9.865326,
          10.403841,
          10.272177,
          11.281255999999999,
          11.613169,
          11.376406999999999,
          12.150972,
          12.616414,
          12.806097,
          13.16374,
          13.604175,
          13.848499,
          13.609723,
          13.317321,
          13.676390999999999,
          13.531396
         ],
         "y": [
          0.4083735,
          0.5814064,
          0.54888344,
          0.5457138,
          0.54626775,
          0.57274485,
          0.54937583,
          0.52260363,
          0.5138116,
          0.5299425,
          0.5304046,
          0.50704694,
          0.49145123,
          0.5098244,
          0.52309674,
          0.47633564,
          0.479354,
          0.50702643,
          0.47605744,
          0.47899717,
          0.4854749,
          0.459551,
          0.45650637,
          0.43481943,
          0.4290515,
          0.45108196
         ]
        },
        {
         "hovertemplate": "Year: %{text}<br>gdp: %{x:.1f} k$<br>Gini: %{y:.2f}",
         "line": {
          "shape": "spline",
          "smoothing": 0.1
         },
         "marker": {
          "angleref": "previous",
          "size": 12,
          "symbol": "arrow-bar-up"
         },
         "mode": "lines+markers+text",
         "name": "Peru",
         "text": [
          1997,
          1998,
          1999,
          2000,
          2001,
          2002,
          2003,
          2004,
          2005,
          2006,
          2007,
          2008,
          2009,
          2010,
          2011,
          2012,
          2013,
          2014,
          2015,
          2016,
          2017,
          2018,
          2019,
          2020,
          2021,
          2022
         ],
         "textposition": "top center",
         "type": "scatter",
         "visible": "legendonly",
         "x": [
          6.4530215,
          6.3150156,
          6.303456,
          6.375616,
          6.329413,
          6.5965503,
          6.7994497,
          7.0673555,
          7.443930999999999,
          7.938435,
          8.5486045,
          9.262151,
          9.298078,
          9.9969375,
          10.539982,
          11.084874,
          11.620645,
          11.773944,
          12.0151875,
          12.321318,
          12.442746,
          12.696236,
          12.735168,
          11.187344,
          12.533842,
          12.743941999999999
         ],
         "y": [
          0.5325665,
          0.55117506,
          0.5482133,
          0.49072054,
          0.5130185,
          0.535637,
          0.5307964,
          0.4987963,
          0.5044914,
          0.50332135,
          0.5002141,
          0.47486418,
          0.47006038,
          0.45537677,
          0.44659775,
          0.4444003,
          0.4388273,
          0.43138838,
          0.43356073,
          0.4363899,
          0.43292674,
          0.4236557,
          0.4152813,
          0.4373994,
          0.4012181,
          0.40349188
         ]
        },
        {
         "hovertemplate": "Year: %{text}<br>gdp: %{x:.1f} k$<br>Gini: %{y:.2f}",
         "line": {
          "shape": "spline",
          "smoothing": 0.1
         },
         "marker": {
          "angleref": "previous",
          "size": 12,
          "symbol": "arrow-bar-up"
         },
         "mode": "lines+markers+text",
         "name": "Philippines",
         "text": [
          1991,
          1994,
          1997,
          2000,
          2003,
          2006,
          2009,
          2012,
          2015,
          2018,
          2021
         ],
         "textposition": "top center",
         "type": "scatter",
         "visible": "legendonly",
         "x": [
          4.115017,
          4.1066845999999995,
          4.4508545,
          4.4556724,
          4.703666500000001,
          5.227533,
          5.5744526,
          6.29816,
          7.235081500000001,
          8.365732,
          8.0955796
         ],
         "y": [
          0.4382355,
          0.42888388,
          0.45962209,
          0.42799473,
          0.4149466,
          0.4285884,
          0.41760337,
          0.4222433,
          0.40351498,
          0.37811705,
          0.37268466
         ]
        },
        {
         "hovertemplate": "Year: %{text}<br>gdp: %{x:.1f} k$<br>Gini: %{y:.2f}",
         "line": {
          "shape": "spline",
          "smoothing": 0.1
         },
         "marker": {
          "angleref": "previous",
          "size": 12,
          "symbol": "arrow-bar-up"
         },
         "mode": "lines+markers+text",
         "name": "Poland",
         "text": [
          1992,
          1995,
          1999,
          2004,
          2005,
          2006,
          2007,
          2008,
          2009,
          2010,
          2011,
          2012,
          2013,
          2014,
          2015,
          2016,
          2017,
          2018,
          2019,
          2020,
          2021
         ],
         "textposition": "top center",
         "type": "scatter",
         "visible": "legendonly",
         "x": [
          10.66208,
          12.398524,
          15.311442999999999,
          18.1981,
          18.844557000000002,
          20.012621,
          21.437457,
          22.334781,
          22.951785,
          23.69291,
          24.874171999999998,
          25.258594000000002,
          25.490328,
          26.488201,
          27.66769,
          28.497104,
          29.958121,
          31.739258000000003,
          33.15975,
          32.546826,
          34.94404
         ],
         "y": [
          0.29298562,
          0.3464313,
          0.32289156,
          0.3802178,
          0.35808384,
          0.34667546,
          0.34001285,
          0.33485633,
          0.33355722,
          0.3321481,
          0.33180645,
          0.3302016,
          0.33137318,
          0.32824445,
          0.3175091,
          0.31189167,
          0.2968527,
          0.302149,
          0.28760177,
          0.284626,
          0.28479505
         ]
        },
        {
         "hovertemplate": "Year: %{text}<br>gdp: %{x:.1f} k$<br>Gini: %{y:.2f}",
         "line": {
          "shape": "spline",
          "smoothing": 0.1
         },
         "marker": {
          "angleref": "previous",
          "size": 12,
          "symbol": "arrow-bar-up"
         },
         "mode": "lines+markers+text",
         "name": "Portugal",
         "text": [
          2003,
          2004,
          2005,
          2006,
          2007,
          2008,
          2009,
          2010,
          2011,
          2012,
          2013,
          2014,
          2015,
          2016,
          2017,
          2018,
          2019,
          2020,
          2021
         ],
         "textposition": "top center",
         "type": "scatter",
         "x": [
          30.422601999999998,
          30.89282,
          31.076645,
          31.52475,
          32.251568,
          32.307912,
          31.26941,
          31.798154,
          31.304816,
          30.156701,
          30.04289,
          30.444599999999998,
          31.118791,
          31.847537,
          33.044715,
          34.040727,
          34.945660000000004,
          32.011324,
          33.63644
         ],
         "y": [
          0.38775018,
          0.38938782,
          0.38480073,
          0.3806078,
          0.36750183,
          0.3663415,
          0.34907416,
          0.35844672,
          0.36344677,
          0.36034793,
          0.36187103,
          0.35562173,
          0.355233,
          0.3519052,
          0.3380384,
          0.33492562,
          0.32762748,
          0.3466863,
          0.3459202
         ]
        },
        {
         "hovertemplate": "Year: %{text}<br>gdp: %{x:.1f} k$<br>Gini: %{y:.2f}",
         "line": {
          "shape": "spline",
          "smoothing": 0.1
         },
         "marker": {
          "angleref": "previous",
          "size": 12,
          "symbol": "arrow-bar-up"
         },
         "mode": "lines+markers+text",
         "name": "Qatar",
         "text": [
          2017
         ],
         "textposition": "top center",
         "type": "scatter",
         "visible": "legendonly",
         "x": [
          92.17759
         ],
         "y": [
          0.35128385
         ]
        },
        {
         "hovertemplate": "Year: %{text}<br>gdp: %{x:.1f} k$<br>Gini: %{y:.2f}",
         "line": {
          "shape": "spline",
          "smoothing": 0.1
         },
         "marker": {
          "angleref": "previous",
          "size": 12,
          "symbol": "arrow-bar-up"
         },
         "mode": "lines+markers+text",
         "name": "Romania",
         "text": [
          1992,
          1994,
          1995,
          1997,
          2006,
          2007,
          2008,
          2009,
          2010,
          2011,
          2012,
          2013,
          2014,
          2015,
          2016,
          2017,
          2018,
          2019,
          2020,
          2021
         ],
         "textposition": "top center",
         "type": "scatter",
         "visible": "legendonly",
         "x": [
          10.816979499999999,
          11.446348,
          12.184484000000001,
          12.116289,
          18.325736,
          19.943836,
          22.166418,
          21.118615000000002,
          20.415629,
          21.443033,
          21.953324000000002,
          22.09448,
          23.091254,
          23.93329,
          24.758817999999998,
          26.943463,
          28.736217,
          30.001105,
          29.057408,
          30.946277
         ],
         "y": [
          0.25461727,
          0.28200582,
          0.31158027,
          0.30504426,
          0.3964077,
          0.37547696,
          0.36428705,
          0.35564327,
          0.3547109,
          0.3586662,
          0.3654543,
          0.3691507,
          0.36009043,
          0.35913625,
          0.34406662,
          0.36012593,
          0.35758388,
          0.34800515,
          0.3457019,
          0.3385264
         ]
        },
        {
         "hovertemplate": "Year: %{text}<br>gdp: %{x:.1f} k$<br>Gini: %{y:.2f}",
         "line": {
          "shape": "spline",
          "smoothing": 0.1
         },
         "marker": {
          "angleref": "previous",
          "size": 12,
          "symbol": "arrow-bar-up"
         },
         "mode": "lines+markers+text",
         "name": "Russia",
         "text": [
          1993,
          1996,
          1997,
          1998,
          1999,
          2000,
          2001,
          2002,
          2003,
          2004,
          2005,
          2006,
          2007,
          2008,
          2009,
          2010,
          2011,
          2012,
          2013,
          2014,
          2015,
          2016,
          2017,
          2018,
          2019,
          2020
         ],
         "textposition": "top center",
         "type": "scatter",
         "visible": "legendonly",
         "x": [
          15.870605,
          12.827116,
          13.028208000000001,
          12.358152,
          13.189794,
          14.569937,
          15.37809,
          16.175098,
          17.434809,
          18.765520000000002,
          20.042814,
          21.757465,
          23.647266,
          24.887854,
          22.939693,
          23.96122,
          24.972078,
          25.933293000000003,
          26.332396,
          26.057156,
          25.488096000000002,
          25.490709,
          25.926443,
          26.65641,
          27.254574,
          26.586555
         ],
         "y": [
          0.45385477,
          0.4609863,
          0.38409194,
          0.38137,
          0.37443382,
          0.37092733,
          0.36924976,
          0.37283763,
          0.39971545,
          0.4031583,
          0.41265598,
          0.4095094,
          0.42272472,
          0.41568583,
          0.398456,
          0.39548978,
          0.39749315,
          0.40714827,
          0.40884423,
          0.3988122,
          0.37710539,
          0.368485,
          0.37239072,
          0.37473005,
          0.37736863,
          0.36068243
         ]
        },
        {
         "hovertemplate": "Year: %{text}<br>gdp: %{x:.1f} k$<br>Gini: %{y:.2f}",
         "line": {
          "shape": "spline",
          "smoothing": 0.1
         },
         "marker": {
          "angleref": "previous",
          "size": 12,
          "symbol": "arrow-bar-up"
         },
         "mode": "lines+markers+text",
         "name": "Rwanda",
         "text": [
          2000,
          2005,
          2010,
          2013,
          2016
         ],
         "textposition": "top center",
         "type": "scatter",
         "visible": "legendonly",
         "x": [
          0.8491412,
          1.1252837,
          1.4684058,
          1.6748248000000001,
          1.9085519999999998
         ],
         "y": [
          0.4851838,
          0.52019864,
          0.4722184,
          0.45111495,
          0.43709454
         ]
        },
        {
         "hovertemplate": "Year: %{text}<br>gdp: %{x:.1f} k$<br>Gini: %{y:.2f}",
         "line": {
          "shape": "spline",
          "smoothing": 0.1
         },
         "marker": {
          "angleref": "previous",
          "size": 12,
          "symbol": "arrow-bar-up"
         },
         "mode": "lines+markers+text",
         "name": "Saint Lucia",
         "text": [
          1995,
          2015
         ],
         "textposition": "top center",
         "type": "scatter",
         "visible": "legendonly",
         "x": [
          12.017290999999998,
          14.384199
         ],
         "y": [
          0.4258438,
          0.5122298
         ]
        },
        {
         "hovertemplate": "Year: %{text}<br>gdp: %{x:.1f} k$<br>Gini: %{y:.2f}",
         "line": {
          "shape": "spline",
          "smoothing": 0.1
         },
         "marker": {
          "angleref": "previous",
          "size": 12,
          "symbol": "arrow-bar-up"
         },
         "mode": "lines+markers+text",
         "name": "Samoa",
         "text": [
          2002,
          2008,
          2013
         ],
         "textposition": "top center",
         "type": "scatter",
         "visible": "legendonly",
         "x": [
          4.669688,
          5.585776,
          5.6599497
         ],
         "y": [
          0.4073552,
          0.4204655,
          0.38743454
         ]
        },
        {
         "hovertemplate": "Year: %{text}<br>gdp: %{x:.1f} k$<br>Gini: %{y:.2f}",
         "line": {
          "shape": "spline",
          "smoothing": 0.1
         },
         "marker": {
          "angleref": "previous",
          "size": 12,
          "symbol": "arrow-bar-up"
         },
         "mode": "lines+markers+text",
         "name": "Sao Tome and Principe",
         "text": [
          2010,
          2017
         ],
         "textposition": "top center",
         "type": "scatter",
         "visible": "legendonly",
         "x": [
          2.9925949999999997,
          3.3732642
         ],
         "y": [
          0.3082127,
          0.4072948
         ]
        },
        {
         "hovertemplate": "Year: %{text}<br>gdp: %{x:.1f} k$<br>Gini: %{y:.2f}",
         "line": {
          "shape": "spline",
          "smoothing": 0.1
         },
         "marker": {
          "angleref": "previous",
          "size": 12,
          "symbol": "arrow-bar-up"
         },
         "mode": "lines+markers+text",
         "name": "Senegal",
         "text": [
          1991,
          1994,
          2001,
          2005,
          2011,
          2018,
          2021
         ],
         "textposition": "top center",
         "type": "scatter",
         "visible": "legendonly",
         "x": [
          2.4639236,
          2.3300718000000002,
          2.6687659,
          2.7875269,
          2.7908975000000003,
          3.3688586,
          3.5116375
         ],
         "y": [
          0.5404016,
          0.39245197,
          0.41229436,
          0.3921271,
          0.40274113,
          0.38314784,
          0.3615772
         ]
        },
        {
         "hovertemplate": "Year: %{text}<br>gdp: %{x:.1f} k$<br>Gini: %{y:.2f}",
         "line": {
          "shape": "spline",
          "smoothing": 0.1
         },
         "marker": {
          "angleref": "previous",
          "size": 12,
          "symbol": "arrow-bar-up"
         },
         "mode": "lines+markers+text",
         "name": "Serbia",
         "text": [
          2012,
          2013,
          2014,
          2015,
          2016,
          2017,
          2018,
          2019,
          2020,
          2021
         ],
         "textposition": "top center",
         "type": "scatter",
         "visible": "legendonly",
         "x": [
          14.894299,
          15.39989,
          15.226426,
          15.578311,
          16.182934,
          16.61113,
          17.452916000000002,
          18.306904,
          18.262798999999998,
          19.860310000000002
         ],
         "y": [
          0.39887607,
          0.3944599,
          0.40437588,
          0.40461844,
          0.38775226,
          0.36105734,
          0.35003355,
          0.34475464,
          0.34950927,
          0.3312897
         ]
        },
        {
         "hovertemplate": "Year: %{text}<br>gdp: %{x:.1f} k$<br>Gini: %{y:.2f}",
         "line": {
          "shape": "spline",
          "smoothing": 0.1
         },
         "marker": {
          "angleref": "previous",
          "size": 12,
          "symbol": "arrow-bar-up"
         },
         "mode": "lines+markers+text",
         "name": "Seychelles",
         "text": [
          1999,
          2006,
          2013,
          2018
         ],
         "textposition": "top center",
         "type": "scatter",
         "visible": "legendonly",
         "x": [
          20.04616,
          21.423947000000002,
          24.865928,
          28.080634999999997
         ],
         "y": [
          0.42776692,
          0.42767617,
          0.46822062,
          0.3212532
         ]
        },
        {
         "hovertemplate": "Year: %{text}<br>gdp: %{x:.1f} k$<br>Gini: %{y:.2f}",
         "line": {
          "shape": "spline",
          "smoothing": 0.1
         },
         "marker": {
          "angleref": "previous",
          "size": 12,
          "symbol": "arrow-bar-up"
         },
         "mode": "lines+markers+text",
         "name": "Sierra Leone",
         "text": [
          2003,
          2011,
          2018
         ],
         "textposition": "top center",
         "type": "scatter",
         "visible": "legendonly",
         "x": [
          1.1610211,
          1.4460627,
          1.6103232
         ],
         "y": [
          0.40167344,
          0.34030157,
          0.35690176
         ]
        },
        {
         "hovertemplate": "Year: %{text}<br>gdp: %{x:.1f} k$<br>Gini: %{y:.2f}",
         "line": {
          "shape": "spline",
          "smoothing": 0.1
         },
         "marker": {
          "angleref": "previous",
          "size": 12,
          "symbol": "arrow-bar-up"
         },
         "mode": "lines+markers+text",
         "name": "Slovakia",
         "text": [
          1992,
          1996,
          2004,
          2005,
          2006,
          2007,
          2008,
          2009,
          2010,
          2011,
          2012,
          2013,
          2014,
          2015,
          2016,
          2017,
          2018,
          2019,
          2020,
          2021
         ],
         "textposition": "top center",
         "type": "scatter",
         "visible": "legendonly",
         "x": [
          11.695350000000001,
          14.102084000000001,
          18.834393,
          20.079912,
          21.784333999999998,
          24.136975,
          25.46074,
          24.039666,
          25.630426,
          26.281223,
          26.582541000000003,
          26.722009999999997,
          27.416134999999997,
          28.805387,
          29.327516,
          30.142367,
          31.31382,
          32.056779999999996,
          30.960959,
          32.512695
         ],
         "y": [
          0.20186578,
          0.26275486,
          0.2707678,
          0.29296494,
          0.25797036,
          0.24664712,
          0.26024988,
          0.2723098,
          0.2731572,
          0.2653828,
          0.26115808,
          0.28086153,
          0.26103425,
          0.26491234,
          0.2515492,
          0.23237365,
          0.24970019,
          0.23232324,
          0.24219424,
          0.2411022
         ]
        },
        {
         "hovertemplate": "Year: %{text}<br>gdp: %{x:.1f} k$<br>Gini: %{y:.2f}",
         "line": {
          "shape": "spline",
          "smoothing": 0.1
         },
         "marker": {
          "angleref": "previous",
          "size": 12,
          "symbol": "arrow-bar-up"
         },
         "mode": "lines+markers+text",
         "name": "Slovenia",
         "text": [
          1997,
          1999,
          2004,
          2005,
          2006,
          2007,
          2008,
          2009,
          2010,
          2011,
          2012,
          2013,
          2014,
          2015,
          2016,
          2017,
          2018,
          2019,
          2020,
          2021
         ],
         "textposition": "top center",
         "type": "scatter",
         "visible": "legendonly",
         "x": [
          23.333719000000002,
          25.421294999999997,
          30.041814,
          31.12883,
          32.81274,
          34.907367,
          36.07547,
          33.052227,
          33.350612999999996,
          33.568066,
          32.61349,
          32.234025,
          33.09375,
          33.799727,
          34.853043,
          36.507555,
          37.995715,
          39.06125,
          37.155023,
          40.10436
         ],
         "y": [
          0.241215,
          0.24042886,
          0.24790733,
          0.24634741,
          0.24363928,
          0.24354753,
          0.23718019,
          0.24787736,
          0.24933259,
          0.24868034,
          0.25585502,
          0.26241106,
          0.25657535,
          0.25408465,
          0.24757937,
          0.24219307,
          0.24633364,
          0.24384232,
          0.24031529,
          0.2428228
         ]
        },
        {
         "hovertemplate": "Year: %{text}<br>gdp: %{x:.1f} k$<br>Gini: %{y:.2f}",
         "line": {
          "shape": "spline",
          "smoothing": 0.1
         },
         "marker": {
          "angleref": "previous",
          "size": 12,
          "symbol": "arrow-bar-up"
         },
         "mode": "lines+markers+text",
         "name": "Solomon Islands",
         "text": [
          2005,
          2012
         ],
         "textposition": "top center",
         "type": "scatter",
         "visible": "legendonly",
         "x": [
          2.0872373,
          2.5261907
         ],
         "y": [
          0.46088147,
          0.37054926
         ]
        },
        {
         "hovertemplate": "Year: %{text}<br>gdp: %{x:.1f} k$<br>Gini: %{y:.2f}",
         "line": {
          "shape": "spline",
          "smoothing": 0.1
         },
         "marker": {
          "angleref": "previous",
          "size": 12,
          "symbol": "arrow-bar-up"
         },
         "mode": "lines+markers+text",
         "name": "South Africa",
         "text": [
          1993,
          2000,
          2005,
          2008,
          2010,
          2014
         ],
         "textposition": "top center",
         "type": "scatter",
         "visible": "legendonly",
         "x": [
          9.555986,
          10.59886,
          12.216027,
          13.596288000000001,
          13.469361000000001,
          13.993270500000001
         ],
         "y": [
          0.5933394,
          0.5776966,
          0.6476209,
          0.63009,
          0.6338269,
          0.630258
         ]
        },
        {
         "hovertemplate": "Year: %{text}<br>gdp: %{x:.1f} k$<br>Gini: %{y:.2f}",
         "line": {
          "shape": "spline",
          "smoothing": 0.1
         },
         "marker": {
          "angleref": "previous",
          "size": 12,
          "symbol": "arrow-bar-up"
         },
         "mode": "lines+markers+text",
         "name": "South Korea",
         "text": [
          2006,
          2008,
          2010,
          2012,
          2014,
          2016,
          2017,
          2018,
          2019,
          2020,
          2021
         ],
         "textposition": "top center",
         "type": "scatter",
         "visible": "legendonly",
         "x": [
          29.990521,
          32.275125,
          34.394492,
          36.049195,
          37.967477,
          39.81466,
          40.957418,
          41.96589,
          42.75859,
          42.39676,
          44.299910000000004
         ],
         "y": [
          0.31702983,
          0.32324833,
          0.32021224,
          0.31558052,
          0.31192905,
          0.35222206,
          0.34854642,
          0.33725032,
          0.33196163,
          0.32708606,
          0.32906574
         ]
        },
        {
         "hovertemplate": "Year: %{text}<br>gdp: %{x:.1f} k$<br>Gini: %{y:.2f}",
         "line": {
          "shape": "spline",
          "smoothing": 0.1
         },
         "marker": {
          "angleref": "previous",
          "size": 12,
          "symbol": "arrow-bar-up"
         },
         "mode": "lines+markers+text",
         "name": "Spain",
         "text": [
          1990,
          1993,
          1994,
          1995,
          1996,
          1997,
          1998,
          1999,
          2000,
          2003,
          2004,
          2005,
          2006,
          2007,
          2008,
          2009,
          2010,
          2011,
          2012,
          2013,
          2014,
          2015,
          2016,
          2017,
          2018,
          2019,
          2020,
          2021
         ],
         "textposition": "top center",
         "type": "scatter",
         "visible": "legendonly",
         "x": [
          27.54322,
          27.858838,
          28.387293000000003,
          29.041610000000002,
          29.690355,
          30.660863000000003,
          31.875636999999998,
          33.1723,
          34.756741999999996,
          36.749527,
          37.248824,
          37.962418,
          38.857484,
          39.519839999999995,
          39.239387,
          37.429766,
          37.318529999999996,
          36.883324,
          35.768741999999996,
          35.382535000000004,
          35.98381,
          37.394055,
          38.497484,
          39.550188,
          40.276906000000004,
          40.782233999999995,
          36.051418,
          38.31929
         ],
         "y": [
          0.32023215,
          0.3565849,
          0.35103723,
          0.35726634,
          0.36464584,
          0.35324422,
          0.34580052,
          0.3379193,
          0.34128913,
          0.31800938,
          0.33301964,
          0.32431775,
          0.33541158,
          0.3413741,
          0.342204,
          0.34924084,
          0.35244486,
          0.35693976,
          0.35403663,
          0.36181897,
          0.3605231,
          0.3617834,
          0.35757092,
          0.3465126,
          0.3471633,
          0.34303716,
          0.34863645,
          0.3388591
         ]
        },
        {
         "hovertemplate": "Year: %{text}<br>gdp: %{x:.1f} k$<br>Gini: %{y:.2f}",
         "line": {
          "shape": "spline",
          "smoothing": 0.1
         },
         "marker": {
          "angleref": "previous",
          "size": 12,
          "symbol": "arrow-bar-up"
         },
         "mode": "lines+markers+text",
         "name": "Sri Lanka",
         "text": [
          1990,
          1995,
          2002,
          2006,
          2009,
          2012,
          2016,
          2019
         ],
         "textposition": "top center",
         "type": "scatter",
         "visible": "legendonly",
         "x": [
          4.0400283,
          4.9728667,
          6.1898667,
          7.6070293,
          8.64588,
          10.744147000000002,
          12.770843000000001,
          13.639021000000001
         ],
         "y": [
          0.32447433,
          0.35399538,
          0.40171906,
          0.3966902,
          0.36054152,
          0.38713607,
          0.39345774,
          0.37663776
         ]
        },
        {
         "hovertemplate": "Year: %{text}<br>gdp: %{x:.1f} k$<br>Gini: %{y:.2f}",
         "line": {
          "shape": "spline",
          "smoothing": 0.1
         },
         "marker": {
          "angleref": "previous",
          "size": 12,
          "symbol": "arrow-bar-up"
         },
         "mode": "lines+markers+text",
         "name": "Sudan",
         "text": [
          2009,
          2014
         ],
         "textposition": "top center",
         "type": "scatter",
         "visible": "legendonly",
         "x": [
          4.707345999999999,
          4.77662
         ],
         "y": [
          0.35395128,
          0.3424273
         ]
        },
        {
         "hovertemplate": "Year: %{text}<br>gdp: %{x:.1f} k$<br>Gini: %{y:.2f}",
         "line": {
          "shape": "spline",
          "smoothing": 0.1
         },
         "marker": {
          "angleref": "previous",
          "size": 12,
          "symbol": "arrow-bar-up"
         },
         "mode": "lines+markers+text",
         "name": "Suriname",
         "text": [
          2022
         ],
         "textposition": "top center",
         "type": "scatter",
         "visible": "legendonly",
         "x": [
          15.047614
         ],
         "y": [
          0.39179897
         ]
        },
        {
         "hovertemplate": "Year: %{text}<br>gdp: %{x:.1f} k$<br>Gini: %{y:.2f}",
         "line": {
          "shape": "spline",
          "smoothing": 0.1
         },
         "marker": {
          "angleref": "previous",
          "size": 12,
          "symbol": "arrow-bar-up"
         },
         "mode": "lines+markers+text",
         "name": "Sweden",
         "text": [
          1992,
          1995,
          2000,
          2001,
          2002,
          2003,
          2004,
          2005,
          2006,
          2007,
          2008,
          2009,
          2010,
          2011,
          2012,
          2013,
          2014,
          2015,
          2016,
          2017,
          2018,
          2019,
          2020,
          2021
         ],
         "textposition": "top center",
         "type": "scatter",
         "visible": "legendonly",
         "x": [
          32.953617,
          34.233703,
          40.625363,
          41.103727,
          41.870258,
          42.678285,
          44.35439,
          45.440297,
          47.292311999999995,
          48.557383,
          47.963491999999995,
          45.49277,
          47.79137,
          48.947438000000005,
          48.300844,
          48.462160000000004,
          49.258995999999996,
          50.928965,
          51.334434,
          51.947953,
          52.349292999999996,
          52.85057,
          51.33128,
          54.160367
         ],
         "y": [
          0.24908733,
          0.25236505,
          0.2696006,
          0.2654536,
          0.26216906,
          0.25268546,
          0.2614015,
          0.26821113,
          0.26351255,
          0.27114177,
          0.2811921,
          0.27339876,
          0.27736187,
          0.27605262,
          0.27643898,
          0.28822792,
          0.28388658,
          0.29209688,
          0.29561213,
          0.28774142,
          0.29971606,
          0.2930465,
          0.28870627,
          0.29765385
         ]
        },
        {
         "hovertemplate": "Year: %{text}<br>gdp: %{x:.1f} k$<br>Gini: %{y:.2f}",
         "line": {
          "shape": "spline",
          "smoothing": 0.1
         },
         "marker": {
          "angleref": "previous",
          "size": 12,
          "symbol": "arrow-bar-up"
         },
         "mode": "lines+markers+text",
         "name": "Switzerland",
         "text": [
          1992,
          2000,
          2002,
          2004,
          2006,
          2007,
          2008,
          2009,
          2010,
          2011,
          2012,
          2013,
          2014,
          2015,
          2016,
          2017,
          2018,
          2019,
          2020
         ],
         "textposition": "top center",
         "type": "scatter",
         "visible": "legendonly",
         "x": [
          54.39788,
          59.190414,
          59.250164,
          59.967914,
          63.318793,
          65.21318,
          66.19787,
          63.873953,
          65.26234,
          65.710914,
          65.783586,
          66.19694500000001,
          66.93087,
          67.26159,
          67.90738999999999,
          68.19350999999999,
          69.629336,
          69.92393,
          67.928195
         ],
         "y": [
          0.33854857,
          0.33431056,
          0.31686732,
          0.31564513,
          0.33918807,
          0.34255534,
          0.337947,
          0.32855856,
          0.3255303,
          0.3171362,
          0.31567127,
          0.3246219,
          0.3252566,
          0.32306957,
          0.33042452,
          0.32676333,
          0.3314104,
          0.3399834,
          0.33737928
         ]
        },
        {
         "hovertemplate": "Year: %{text}<br>gdp: %{x:.1f} k$<br>Gini: %{y:.2f}",
         "line": {
          "shape": "spline",
          "smoothing": 0.1
         },
         "marker": {
          "angleref": "previous",
          "size": 12,
          "symbol": "arrow-bar-up"
         },
         "mode": "lines+markers+text",
         "name": "Tajikistan",
         "text": [
          1999,
          2003,
          2004,
          2007,
          2009,
          2015
         ],
         "textposition": "top center",
         "type": "scatter",
         "visible": "legendonly",
         "x": [
          1.2281605,
          1.6632233,
          1.7998169,
          2.0957979,
          2.261409,
          2.9599707
         ],
         "y": [
          0.2953486,
          0.3271972,
          0.3360195,
          0.32182014,
          0.30774954,
          0.3399559
         ]
        },
        {
         "hovertemplate": "Year: %{text}<br>gdp: %{x:.1f} k$<br>Gini: %{y:.2f}",
         "line": {
          "shape": "spline",
          "smoothing": 0.1
         },
         "marker": {
          "angleref": "previous",
          "size": 12,
          "symbol": "arrow-bar-up"
         },
         "mode": "lines+markers+text",
         "name": "Tanzania",
         "text": [
          1991,
          2000,
          2007,
          2011,
          2018
         ],
         "textposition": "top center",
         "type": "scatter",
         "visible": "legendonly",
         "x": [
          1.3315880999999998,
          1.3695818,
          1.8025471,
          2.0640686,
          2.5118293
         ],
         "y": [
          0.35275686,
          0.37266687,
          0.40277025,
          0.3778315,
          0.4049123
         ]
        },
        {
         "hovertemplate": "Year: %{text}<br>gdp: %{x:.1f} k$<br>Gini: %{y:.2f}",
         "line": {
          "shape": "spline",
          "smoothing": 0.1
         },
         "marker": {
          "angleref": "previous",
          "size": 12,
          "symbol": "arrow-bar-up"
         },
         "mode": "lines+markers+text",
         "name": "Thailand",
         "text": [
          1990,
          1992,
          1994,
          1996,
          1998,
          1999,
          2000,
          2002,
          2004,
          2006,
          2007,
          2008,
          2009,
          2010,
          2011,
          2012,
          2013,
          2014,
          2015,
          2016,
          2017,
          2018,
          2019,
          2020,
          2021
         ],
         "textposition": "top center",
         "type": "scatter",
         "visible": "legendonly",
         "x": [
          7.273059,
          8.277353999999999,
          9.401065000000001,
          10.453389999999999,
          9.156215,
          9.467921,
          9.7918955,
          10.558468000000001,
          11.828839,
          12.739737,
          13.330209,
          13.459245999999998,
          13.270617,
          14.172218,
          14.199279,
          15.129901,
          15.44238,
          15.509181,
          15.91937,
          16.393314,
          17.00804,
          17.669044999999997,
          17.997133,
          16.865548999999998,
          17.08721
         ],
         "y": [
          0.45265648,
          0.47857958,
          0.43470213,
          0.42904922,
          0.41455793,
          0.43091586,
          0.42833668,
          0.41944495,
          0.42540312,
          0.41819033,
          0.39761516,
          0.40288273,
          0.39601263,
          0.3940277,
          0.37459034,
          0.39256668,
          0.37847108,
          0.37032664,
          0.35987332,
          0.3689063,
          0.36382803,
          0.36412174,
          0.34855723,
          0.34985816,
          0.34923872
         ]
        },
        {
         "hovertemplate": "Year: %{text}<br>gdp: %{x:.1f} k$<br>Gini: %{y:.2f}",
         "line": {
          "shape": "spline",
          "smoothing": 0.1
         },
         "marker": {
          "angleref": "previous",
          "size": 12,
          "symbol": "arrow-bar-up"
         },
         "mode": "lines+markers+text",
         "name": "Togo",
         "text": [
          2006,
          2011,
          2015,
          2018,
          2021
         ],
         "textposition": "top center",
         "type": "scatter",
         "visible": "legendonly",
         "x": [
          1.5963877,
          1.6876111,
          1.91,
          2.0149418,
          2.130859
         ],
         "y": [
          0.42211255,
          0.4601219,
          0.43023092,
          0.42534238,
          0.37858006
         ]
        },
        {
         "hovertemplate": "Year: %{text}<br>gdp: %{x:.1f} k$<br>Gini: %{y:.2f}",
         "line": {
          "shape": "spline",
          "smoothing": 0.1
         },
         "marker": {
          "angleref": "previous",
          "size": 12,
          "symbol": "arrow-bar-up"
         },
         "mode": "lines+markers+text",
         "name": "Tonga",
         "text": [
          2000,
          2009,
          2015,
          2021
         ],
         "textposition": "top center",
         "type": "scatter",
         "visible": "legendonly",
         "x": [
          4.8061963,
          4.9739135999999995,
          5.644633,
          6.142963399999999
         ],
         "y": [
          0.37690175,
          0.3749649,
          0.33521304,
          0.27095765
         ]
        },
        {
         "hovertemplate": "Year: %{text}<br>gdp: %{x:.1f} k$<br>Gini: %{y:.2f}",
         "line": {
          "shape": "spline",
          "smoothing": 0.1
         },
         "marker": {
          "angleref": "previous",
          "size": 12,
          "symbol": "arrow-bar-up"
         },
         "mode": "lines+markers+text",
         "name": "Trinidad and Tobago",
         "text": [
          1992
         ],
         "textposition": "top center",
         "type": "scatter",
         "visible": "legendonly",
         "x": [
          11.029181000000001
         ],
         "y": [
          0.40185452
         ]
        },
        {
         "hovertemplate": "Year: %{text}<br>gdp: %{x:.1f} k$<br>Gini: %{y:.2f}",
         "line": {
          "shape": "spline",
          "smoothing": 0.1
         },
         "marker": {
          "angleref": "previous",
          "size": 12,
          "symbol": "arrow-bar-up"
         },
         "mode": "lines+markers+text",
         "name": "Tunisia",
         "text": [
          1990,
          1995,
          2000,
          2005,
          2010,
          2015,
          2021
         ],
         "textposition": "top center",
         "type": "scatter",
         "visible": "legendonly",
         "x": [
          5.660289,
          6.2135903,
          7.673711,
          8.847087,
          10.478011,
          10.750236999999998,
          10.395913
         ],
         "y": [
          0.40102237,
          0.41657296,
          0.40809476,
          0.37733382,
          0.35808256,
          0.32815883,
          0.33716425
         ]
        },
        {
         "hovertemplate": "Year: %{text}<br>gdp: %{x:.1f} k$<br>Gini: %{y:.2f}",
         "line": {
          "shape": "spline",
          "smoothing": 0.1
         },
         "marker": {
          "angleref": "previous",
          "size": 12,
          "symbol": "arrow-bar-up"
         },
         "mode": "lines+markers+text",
         "name": "Turkey",
         "text": [
          1994,
          2002,
          2003,
          2004,
          2005,
          2006,
          2007,
          2008,
          2009,
          2010,
          2011,
          2012,
          2013,
          2014,
          2015,
          2016,
          2017,
          2018,
          2019,
          2020,
          2021
         ],
         "textposition": "top center",
         "type": "scatter",
         "visible": "legendonly",
         "x": [
          12.679875,
          14.839131,
          15.48811,
          16.775080000000003,
          18.038812,
          19.043623,
          19.845336,
          19.755465,
          18.544879,
          19.80446,
          21.701701,
          22.452844000000002,
          24.047293,
          24.897002,
          26.061832,
          26.56802,
          28.193174,
          28.65221,
          28.476684000000002,
          28.726191,
          31.72216
         ],
         "y": [
          0.413152,
          0.41396376,
          0.42184338,
          0.4128751,
          0.42614657,
          0.39647412,
          0.384428,
          0.3902054,
          0.3896531,
          0.3878508,
          0.40039355,
          0.40168938,
          0.401785,
          0.41236562,
          0.42854458,
          0.41873705,
          0.4353174,
          0.42441463,
          0.4383382,
          0.43045047,
          0.44364843
         ]
        },
        {
         "hovertemplate": "Year: %{text}<br>gdp: %{x:.1f} k$<br>Gini: %{y:.2f}",
         "line": {
          "shape": "spline",
          "smoothing": 0.1
         },
         "marker": {
          "angleref": "previous",
          "size": 12,
          "symbol": "arrow-bar-up"
         },
         "mode": "lines+markers+text",
         "name": "Turkmenistan",
         "text": [
          1998
         ],
         "textposition": "top center",
         "type": "scatter",
         "visible": "legendonly",
         "x": [
          3.8335413
         ],
         "y": [
          0.40806928
         ]
        },
        {
         "hovertemplate": "Year: %{text}<br>gdp: %{x:.1f} k$<br>Gini: %{y:.2f}",
         "line": {
          "shape": "spline",
          "smoothing": 0.1
         },
         "marker": {
          "angleref": "previous",
          "size": 12,
          "symbol": "arrow-bar-up"
         },
         "mode": "lines+markers+text",
         "name": "Tuvalu",
         "text": [
          2010
         ],
         "textposition": "top center",
         "type": "scatter",
         "visible": "legendonly",
         "x": [
          3.3346648
         ],
         "y": [
          0.39139032
         ]
        },
        {
         "hovertemplate": "Year: %{text}<br>gdp: %{x:.1f} k$<br>Gini: %{y:.2f}",
         "line": {
          "shape": "spline",
          "smoothing": 0.1
         },
         "marker": {
          "angleref": "previous",
          "size": 12,
          "symbol": "arrow-bar-up"
         },
         "mode": "lines+markers+text",
         "name": "Uganda",
         "text": [
          1992,
          1996,
          1999,
          2002,
          2005,
          2009,
          2012,
          2016,
          2019
         ],
         "textposition": "top center",
         "type": "scatter",
         "visible": "legendonly",
         "x": [
          0.9206515500000001,
          1.142136,
          1.2420518999999999,
          1.3351953,
          1.4758116,
          1.8308716999999999,
          2.0135464,
          2.1372073,
          2.250015
         ],
         "y": [
          0.41423506,
          0.39042878,
          0.42997676,
          0.4516984,
          0.4294434,
          0.44190434,
          0.41009575,
          0.42753503,
          0.42702642
         ]
        },
        {
         "hovertemplate": "Year: %{text}<br>gdp: %{x:.1f} k$<br>Gini: %{y:.2f}",
         "line": {
          "shape": "spline",
          "smoothing": 0.1
         },
         "marker": {
          "angleref": "previous",
          "size": 12,
          "symbol": "arrow-bar-up"
         },
         "mode": "lines+markers+text",
         "name": "Ukraine",
         "text": [
          1992,
          1993,
          1995,
          1996,
          2002,
          2003,
          2004,
          2005,
          2006,
          2007,
          2008,
          2009,
          2010,
          2011,
          2012,
          2013,
          2014,
          2015,
          2016,
          2017,
          2018,
          2019,
          2020
         ],
         "textposition": "top center",
         "type": "scatter",
         "visible": "legendonly",
         "x": [
          13.447164,
          11.531299,
          7.906957,
          7.1796777,
          8.765683000000001,
          9.678087,
          10.902038000000001,
          11.319511,
          12.259158,
          13.345771000000001,
          13.719271,
          11.694448,
          12.221440000000001,
          12.933356,
          12.985087,
          13.020601000000001,
          12.385813,
          11.216118,
          11.536316000000001,
          11.860561,
          12.336927,
          12.804955,
          12.40779
         ],
         "y": [
          0.2970884,
          0.28926983,
          0.39231017,
          0.35153562,
          0.29045695,
          0.28664893,
          0.28934017,
          0.29020715,
          0.29794392,
          0.27012688,
          0.2663823,
          0.25316665,
          0.24818976,
          0.24551843,
          0.24740657,
          0.24554986,
          0.24025366,
          0.2545754,
          0.25002202,
          0.26049048,
          0.26071486,
          0.26619467,
          0.25627363
         ]
        },
        {
         "hovertemplate": "Year: %{text}<br>gdp: %{x:.1f} k$<br>Gini: %{y:.2f}",
         "line": {
          "shape": "spline",
          "smoothing": 0.1
         },
         "marker": {
          "angleref": "previous",
          "size": 12,
          "symbol": "arrow-bar-up"
         },
         "mode": "lines+markers+text",
         "name": "United Arab Emirates",
         "text": [
          2013,
          2018
         ],
         "textposition": "top center",
         "type": "scatter",
         "visible": "legendonly",
         "x": [
          62.354824,
          71.55055499999999
         ],
         "y": [
          0.3251042,
          0.26399004
         ]
        },
        {
         "hovertemplate": "Year: %{text}<br>gdp: %{x:.1f} k$<br>Gini: %{y:.2f}",
         "line": {
          "shape": "spline",
          "smoothing": 0.1
         },
         "marker": {
          "angleref": "previous",
          "size": 12,
          "symbol": "arrow-bar-up"
         },
         "mode": "lines+markers+text",
         "name": "United Kingdom",
         "text": [
          1990,
          1991,
          1992,
          1993,
          1994,
          1995,
          1996,
          1997,
          1998,
          1999,
          2000,
          2001,
          2002,
          2003,
          2004,
          2005,
          2006,
          2007,
          2008,
          2009,
          2010,
          2011,
          2012,
          2013,
          2014,
          2015,
          2016,
          2017,
          2018,
          2019,
          2020,
          2021
         ],
         "textposition": "top center",
         "type": "scatter",
         "visible": "legendonly",
         "x": [
          30.65784,
          30.226027,
          30.2653,
          30.944580000000002,
          32.053004,
          32.777652,
          33.538472999999996,
          35.099703,
          36.19248,
          37.178042999999995,
          38.645336,
          39.489580000000004,
          40.027418,
          41.095105000000004,
          41.853477,
          42.705546999999996,
          43.404402000000005,
          44.196254,
          43.750800000000005,
          41.417258000000004,
          42.013824,
          42.164117,
          42.50544,
          42.978465,
          44.026527,
          44.648844,
          45.162996,
          46.048199999999994,
          46.41254,
          46.90908,
          41.895824,
          45.567569999999996
         ],
         "y": [
          0.3574197,
          0.34962818,
          0.34955472,
          0.3507596,
          0.35978922,
          0.3551664,
          0.3529524,
          0.35735163,
          0.36621472,
          0.3678378,
          0.38848642,
          0.37086216,
          0.35146394,
          0.34856063,
          0.34834158,
          0.35485032,
          0.35879987,
          0.34413147,
          0.35445124,
          0.35137364,
          0.337056,
          0.33191085,
          0.33090645,
          0.32699567,
          0.3314094,
          0.33311963,
          0.33109283,
          0.3260817,
          0.33689743,
          0.32824126,
          0.32644516,
          0.32414576
         ]
        },
        {
         "hovertemplate": "Year: %{text}<br>gdp: %{x:.1f} k$<br>Gini: %{y:.2f}",
         "line": {
          "shape": "spline",
          "smoothing": 0.1
         },
         "marker": {
          "angleref": "previous",
          "size": 12,
          "symbol": "arrow-bar-up"
         },
         "mode": "lines+markers+text",
         "name": "United States",
         "text": [
          1990,
          1991,
          1992,
          1993,
          1994,
          1995,
          1996,
          1997,
          1998,
          1999,
          2000,
          2001,
          2002,
          2003,
          2004,
          2005,
          2006,
          2007,
          2008,
          2009,
          2010,
          2011,
          2012,
          2013,
          2014,
          2015,
          2016,
          2017,
          2018,
          2019,
          2020,
          2021,
          2022
         ],
         "textposition": "top center",
         "type": "scatter",
         "x": [
          40.4515,
          39.871344,
          40.70729,
          41.279516,
          42.419195,
          43.042215,
          44.149370000000005,
          45.560919999999996,
          47.050996,
          48.743883000000004,
          50.169855000000005,
          50.14983,
          50.529348,
          51.497733999999994,
          52.98903,
          54.33166000000001,
          55.30772,
          55.885645,
          55.42718,
          53.514934000000004,
          54.510464999999996,
          54.954465,
          55.796973,
          56.43233,
          57.3016,
          58.420703,
          58.96599,
          59.907754000000004,
          61.348457,
          62.47093,
          60.158910000000006,
          63.635824,
          64.623125
         ],
         "y": [
          0.38262504,
          0.38044858,
          0.38372815,
          0.4036311,
          0.39985397,
          0.39853615,
          0.40308332,
          0.40524158,
          0.39951783,
          0.39984423,
          0.40138903,
          0.40594307,
          0.40352058,
          0.40770072,
          0.40250537,
          0.40962887,
          0.413959,
          0.40795898,
          0.40809166,
          0.40608335,
          0.40007547,
          0.40934193,
          0.4093412,
          0.40649238,
          0.41508022,
          0.41235605,
          0.41118968,
          0.41177237,
          0.4140517,
          0.41533518,
          0.39682114,
          0.39696464,
          0.41334125
         ]
        },
        {
         "hovertemplate": "Year: %{text}<br>gdp: %{x:.1f} k$<br>Gini: %{y:.2f}",
         "line": {
          "shape": "spline",
          "smoothing": 0.1
         },
         "marker": {
          "angleref": "previous",
          "size": 12,
          "symbol": "arrow-bar-up"
         },
         "mode": "lines+markers+text",
         "name": "Uruguay",
         "text": [
          2006,
          2007,
          2008,
          2009,
          2010,
          2011,
          2012,
          2013,
          2014,
          2015,
          2016,
          2017,
          2018,
          2019,
          2020,
          2021,
          2022
         ],
         "textposition": "top center",
         "type": "scatter",
         "visible": "legendonly",
         "x": [
          15.368618,
          16.342628,
          17.476152,
          18.174008,
          19.542557000000002,
          20.496434,
          21.161857,
          22.077450000000002,
          22.72205,
          22.731521,
          23.041506000000002,
          23.38474,
          23.388129,
          23.552842000000002,
          22.073375,
          23.257256,
          24.42666
         ],
         "y": [
          0.4594136,
          0.46404734,
          0.4508151,
          0.45541507,
          0.44474792,
          0.42175132,
          0.39900422,
          0.40450785,
          0.40110928,
          0.40128586,
          0.3969534,
          0.39464375,
          0.39687112,
          0.3967629,
          0.40155584,
          0.40776816,
          0.40551677
         ]
        },
        {
         "hovertemplate": "Year: %{text}<br>gdp: %{x:.1f} k$<br>Gini: %{y:.2f}",
         "line": {
          "shape": "spline",
          "smoothing": 0.1
         },
         "marker": {
          "angleref": "previous",
          "size": 12,
          "symbol": "arrow-bar-up"
         },
         "mode": "lines+markers+text",
         "name": "Uzbekistan",
         "text": [
          1998,
          2000,
          2002,
          2003,
          2022
         ],
         "textposition": "top center",
         "type": "scatter",
         "visible": "legendonly",
         "x": [
          2.808461,
          2.9676017999999997,
          3.1349612000000002,
          3.229848,
          8.0732104
         ],
         "y": [
          0.44268507,
          0.36011636,
          0.33036503,
          0.3526095,
          0.31184828
         ]
        },
        {
         "hovertemplate": "Year: %{text}<br>gdp: %{x:.1f} k$<br>Gini: %{y:.2f}",
         "line": {
          "shape": "spline",
          "smoothing": 0.1
         },
         "marker": {
          "angleref": "previous",
          "size": 12,
          "symbol": "arrow-bar-up"
         },
         "mode": "lines+markers+text",
         "name": "Vanuatu",
         "text": [
          2010,
          2019
         ],
         "textposition": "top center",
         "type": "scatter",
         "visible": "legendonly",
         "x": [
          2.9723687,
          3.070404
         ],
         "y": [
          0.37351298,
          0.32317576
         ]
        },
        {
         "hovertemplate": "Year: %{text}<br>gdp: %{x:.1f} k$<br>Gini: %{y:.2f}",
         "line": {
          "shape": "spline",
          "smoothing": 0.1
         },
         "marker": {
          "angleref": "previous",
          "size": 12,
          "symbol": "arrow-bar-up"
         },
         "mode": "lines+markers+text",
         "name": "Vietnam",
         "text": [
          1992,
          1997,
          2002,
          2004,
          2006,
          2008,
          2010,
          2012,
          2014,
          2016,
          2018,
          2020,
          2022
         ],
         "textposition": "top center",
         "type": "scatter",
         "visible": "legendonly",
         "x": [
          2.3172666,
          3.2396816,
          4.0823733,
          4.5977573000000005,
          5.186432,
          5.757924,
          6.324526,
          6.950287599999999,
          7.6419097,
          8.545701999999999,
          9.636014,
          10.450621,
          11.396531000000001
         ],
         "y": [
          0.35654002,
          0.35442206,
          0.37029624,
          0.36785832,
          0.35788617,
          0.35570312,
          0.39252725,
          0.35645887,
          0.34755376,
          0.3526674,
          0.35715547,
          0.36790165,
          0.36093006
         ]
        },
        {
         "hovertemplate": "Year: %{text}<br>gdp: %{x:.1f} k$<br>Gini: %{y:.2f}",
         "line": {
          "shape": "spline",
          "smoothing": 0.1
         },
         "marker": {
          "angleref": "previous",
          "size": 12,
          "symbol": "arrow-bar-up"
         },
         "mode": "lines+markers+text",
         "name": "Zambia",
         "text": [
          1991,
          1993,
          1996,
          1998,
          2002,
          2004,
          2006,
          2010,
          2015,
          2022
         ],
         "textposition": "top center",
         "type": "scatter",
         "visible": "legendonly",
         "x": [
          2.2328373999999998,
          2.2327103999999998,
          2.0717087000000003,
          2.0348972,
          2.1719312,
          2.3350698000000003,
          2.5250977,
          3.0833552,
          3.3653792,
          3.3658737999999997
         ],
         "y": [
          0.5940293,
          0.5255011,
          0.48328376,
          0.4912212,
          0.4205863,
          0.54263926,
          0.54569334,
          0.52011114,
          0.5583758,
          0.51483124
         ]
        },
        {
         "hovertemplate": "Year: %{text}<br>gdp: %{x:.1f} k$<br>Gini: %{y:.2f}",
         "line": {
          "shape": "spline",
          "smoothing": 0.1
         },
         "marker": {
          "angleref": "previous",
          "size": 12,
          "symbol": "arrow-bar-up"
         },
         "mode": "lines+markers+text",
         "name": "Zimbabwe",
         "text": [
          2011,
          2017,
          2019
         ],
         "textposition": "top center",
         "type": "scatter",
         "visible": "legendonly",
         "x": [
          2.0331814,
          2.3317808,
          2.2033967
         ],
         "y": [
          0.43153575,
          0.44337082,
          0.5025645
         ]
        }
       ],
       "layout": {
        "height": 700,
        "template": {
         "data": {
          "bar": [
           {
            "error_x": {
             "color": "#2a3f5f"
            },
            "error_y": {
             "color": "#2a3f5f"
            },
            "marker": {
             "line": {
              "color": "#E5ECF6",
              "width": 0.5
             },
             "pattern": {
              "fillmode": "overlay",
              "size": 10,
              "solidity": 0.2
             }
            },
            "type": "bar"
           }
          ],
          "barpolar": [
           {
            "marker": {
             "line": {
              "color": "#E5ECF6",
              "width": 0.5
             },
             "pattern": {
              "fillmode": "overlay",
              "size": 10,
              "solidity": 0.2
             }
            },
            "type": "barpolar"
           }
          ],
          "carpet": [
           {
            "aaxis": {
             "endlinecolor": "#2a3f5f",
             "gridcolor": "white",
             "linecolor": "white",
             "minorgridcolor": "white",
             "startlinecolor": "#2a3f5f"
            },
            "baxis": {
             "endlinecolor": "#2a3f5f",
             "gridcolor": "white",
             "linecolor": "white",
             "minorgridcolor": "white",
             "startlinecolor": "#2a3f5f"
            },
            "type": "carpet"
           }
          ],
          "choropleth": [
           {
            "colorbar": {
             "outlinewidth": 0,
             "ticks": ""
            },
            "type": "choropleth"
           }
          ],
          "contour": [
           {
            "colorbar": {
             "outlinewidth": 0,
             "ticks": ""
            },
            "colorscale": [
             [
              0,
              "#0d0887"
             ],
             [
              0.1111111111111111,
              "#46039f"
             ],
             [
              0.2222222222222222,
              "#7201a8"
             ],
             [
              0.3333333333333333,
              "#9c179e"
             ],
             [
              0.4444444444444444,
              "#bd3786"
             ],
             [
              0.5555555555555556,
              "#d8576b"
             ],
             [
              0.6666666666666666,
              "#ed7953"
             ],
             [
              0.7777777777777778,
              "#fb9f3a"
             ],
             [
              0.8888888888888888,
              "#fdca26"
             ],
             [
              1,
              "#f0f921"
             ]
            ],
            "type": "contour"
           }
          ],
          "contourcarpet": [
           {
            "colorbar": {
             "outlinewidth": 0,
             "ticks": ""
            },
            "type": "contourcarpet"
           }
          ],
          "heatmap": [
           {
            "colorbar": {
             "outlinewidth": 0,
             "ticks": ""
            },
            "colorscale": [
             [
              0,
              "#0d0887"
             ],
             [
              0.1111111111111111,
              "#46039f"
             ],
             [
              0.2222222222222222,
              "#7201a8"
             ],
             [
              0.3333333333333333,
              "#9c179e"
             ],
             [
              0.4444444444444444,
              "#bd3786"
             ],
             [
              0.5555555555555556,
              "#d8576b"
             ],
             [
              0.6666666666666666,
              "#ed7953"
             ],
             [
              0.7777777777777778,
              "#fb9f3a"
             ],
             [
              0.8888888888888888,
              "#fdca26"
             ],
             [
              1,
              "#f0f921"
             ]
            ],
            "type": "heatmap"
           }
          ],
          "heatmapgl": [
           {
            "colorbar": {
             "outlinewidth": 0,
             "ticks": ""
            },
            "colorscale": [
             [
              0,
              "#0d0887"
             ],
             [
              0.1111111111111111,
              "#46039f"
             ],
             [
              0.2222222222222222,
              "#7201a8"
             ],
             [
              0.3333333333333333,
              "#9c179e"
             ],
             [
              0.4444444444444444,
              "#bd3786"
             ],
             [
              0.5555555555555556,
              "#d8576b"
             ],
             [
              0.6666666666666666,
              "#ed7953"
             ],
             [
              0.7777777777777778,
              "#fb9f3a"
             ],
             [
              0.8888888888888888,
              "#fdca26"
             ],
             [
              1,
              "#f0f921"
             ]
            ],
            "type": "heatmapgl"
           }
          ],
          "histogram": [
           {
            "marker": {
             "pattern": {
              "fillmode": "overlay",
              "size": 10,
              "solidity": 0.2
             }
            },
            "type": "histogram"
           }
          ],
          "histogram2d": [
           {
            "colorbar": {
             "outlinewidth": 0,
             "ticks": ""
            },
            "colorscale": [
             [
              0,
              "#0d0887"
             ],
             [
              0.1111111111111111,
              "#46039f"
             ],
             [
              0.2222222222222222,
              "#7201a8"
             ],
             [
              0.3333333333333333,
              "#9c179e"
             ],
             [
              0.4444444444444444,
              "#bd3786"
             ],
             [
              0.5555555555555556,
              "#d8576b"
             ],
             [
              0.6666666666666666,
              "#ed7953"
             ],
             [
              0.7777777777777778,
              "#fb9f3a"
             ],
             [
              0.8888888888888888,
              "#fdca26"
             ],
             [
              1,
              "#f0f921"
             ]
            ],
            "type": "histogram2d"
           }
          ],
          "histogram2dcontour": [
           {
            "colorbar": {
             "outlinewidth": 0,
             "ticks": ""
            },
            "colorscale": [
             [
              0,
              "#0d0887"
             ],
             [
              0.1111111111111111,
              "#46039f"
             ],
             [
              0.2222222222222222,
              "#7201a8"
             ],
             [
              0.3333333333333333,
              "#9c179e"
             ],
             [
              0.4444444444444444,
              "#bd3786"
             ],
             [
              0.5555555555555556,
              "#d8576b"
             ],
             [
              0.6666666666666666,
              "#ed7953"
             ],
             [
              0.7777777777777778,
              "#fb9f3a"
             ],
             [
              0.8888888888888888,
              "#fdca26"
             ],
             [
              1,
              "#f0f921"
             ]
            ],
            "type": "histogram2dcontour"
           }
          ],
          "mesh3d": [
           {
            "colorbar": {
             "outlinewidth": 0,
             "ticks": ""
            },
            "type": "mesh3d"
           }
          ],
          "parcoords": [
           {
            "line": {
             "colorbar": {
              "outlinewidth": 0,
              "ticks": ""
             }
            },
            "type": "parcoords"
           }
          ],
          "pie": [
           {
            "automargin": true,
            "type": "pie"
           }
          ],
          "scatter": [
           {
            "fillpattern": {
             "fillmode": "overlay",
             "size": 10,
             "solidity": 0.2
            },
            "type": "scatter"
           }
          ],
          "scatter3d": [
           {
            "line": {
             "colorbar": {
              "outlinewidth": 0,
              "ticks": ""
             }
            },
            "marker": {
             "colorbar": {
              "outlinewidth": 0,
              "ticks": ""
             }
            },
            "type": "scatter3d"
           }
          ],
          "scattercarpet": [
           {
            "marker": {
             "colorbar": {
              "outlinewidth": 0,
              "ticks": ""
             }
            },
            "type": "scattercarpet"
           }
          ],
          "scattergeo": [
           {
            "marker": {
             "colorbar": {
              "outlinewidth": 0,
              "ticks": ""
             }
            },
            "type": "scattergeo"
           }
          ],
          "scattergl": [
           {
            "marker": {
             "colorbar": {
              "outlinewidth": 0,
              "ticks": ""
             }
            },
            "type": "scattergl"
           }
          ],
          "scattermapbox": [
           {
            "marker": {
             "colorbar": {
              "outlinewidth": 0,
              "ticks": ""
             }
            },
            "type": "scattermapbox"
           }
          ],
          "scatterpolar": [
           {
            "marker": {
             "colorbar": {
              "outlinewidth": 0,
              "ticks": ""
             }
            },
            "type": "scatterpolar"
           }
          ],
          "scatterpolargl": [
           {
            "marker": {
             "colorbar": {
              "outlinewidth": 0,
              "ticks": ""
             }
            },
            "type": "scatterpolargl"
           }
          ],
          "scatterternary": [
           {
            "marker": {
             "colorbar": {
              "outlinewidth": 0,
              "ticks": ""
             }
            },
            "type": "scatterternary"
           }
          ],
          "surface": [
           {
            "colorbar": {
             "outlinewidth": 0,
             "ticks": ""
            },
            "colorscale": [
             [
              0,
              "#0d0887"
             ],
             [
              0.1111111111111111,
              "#46039f"
             ],
             [
              0.2222222222222222,
              "#7201a8"
             ],
             [
              0.3333333333333333,
              "#9c179e"
             ],
             [
              0.4444444444444444,
              "#bd3786"
             ],
             [
              0.5555555555555556,
              "#d8576b"
             ],
             [
              0.6666666666666666,
              "#ed7953"
             ],
             [
              0.7777777777777778,
              "#fb9f3a"
             ],
             [
              0.8888888888888888,
              "#fdca26"
             ],
             [
              1,
              "#f0f921"
             ]
            ],
            "type": "surface"
           }
          ],
          "table": [
           {
            "cells": {
             "fill": {
              "color": "#EBF0F8"
             },
             "line": {
              "color": "white"
             }
            },
            "header": {
             "fill": {
              "color": "#C8D4E3"
             },
             "line": {
              "color": "white"
             }
            },
            "type": "table"
           }
          ]
         },
         "layout": {
          "annotationdefaults": {
           "arrowcolor": "#2a3f5f",
           "arrowhead": 0,
           "arrowwidth": 1
          },
          "autotypenumbers": "strict",
          "coloraxis": {
           "colorbar": {
            "outlinewidth": 0,
            "ticks": ""
           }
          },
          "colorscale": {
           "diverging": [
            [
             0,
             "#8e0152"
            ],
            [
             0.1,
             "#c51b7d"
            ],
            [
             0.2,
             "#de77ae"
            ],
            [
             0.3,
             "#f1b6da"
            ],
            [
             0.4,
             "#fde0ef"
            ],
            [
             0.5,
             "#f7f7f7"
            ],
            [
             0.6,
             "#e6f5d0"
            ],
            [
             0.7,
             "#b8e186"
            ],
            [
             0.8,
             "#7fbc41"
            ],
            [
             0.9,
             "#4d9221"
            ],
            [
             1,
             "#276419"
            ]
           ],
           "sequential": [
            [
             0,
             "#0d0887"
            ],
            [
             0.1111111111111111,
             "#46039f"
            ],
            [
             0.2222222222222222,
             "#7201a8"
            ],
            [
             0.3333333333333333,
             "#9c179e"
            ],
            [
             0.4444444444444444,
             "#bd3786"
            ],
            [
             0.5555555555555556,
             "#d8576b"
            ],
            [
             0.6666666666666666,
             "#ed7953"
            ],
            [
             0.7777777777777778,
             "#fb9f3a"
            ],
            [
             0.8888888888888888,
             "#fdca26"
            ],
            [
             1,
             "#f0f921"
            ]
           ],
           "sequentialminus": [
            [
             0,
             "#0d0887"
            ],
            [
             0.1111111111111111,
             "#46039f"
            ],
            [
             0.2222222222222222,
             "#7201a8"
            ],
            [
             0.3333333333333333,
             "#9c179e"
            ],
            [
             0.4444444444444444,
             "#bd3786"
            ],
            [
             0.5555555555555556,
             "#d8576b"
            ],
            [
             0.6666666666666666,
             "#ed7953"
            ],
            [
             0.7777777777777778,
             "#fb9f3a"
            ],
            [
             0.8888888888888888,
             "#fdca26"
            ],
            [
             1,
             "#f0f921"
            ]
           ]
          },
          "colorway": [
           "#636efa",
           "#EF553B",
           "#00cc96",
           "#ab63fa",
           "#FFA15A",
           "#19d3f3",
           "#FF6692",
           "#B6E880",
           "#FF97FF",
           "#FECB52"
          ],
          "font": {
           "color": "#2a3f5f"
          },
          "geo": {
           "bgcolor": "white",
           "lakecolor": "white",
           "landcolor": "#E5ECF6",
           "showlakes": true,
           "showland": true,
           "subunitcolor": "white"
          },
          "hoverlabel": {
           "align": "left"
          },
          "hovermode": "closest",
          "mapbox": {
           "style": "light"
          },
          "paper_bgcolor": "white",
          "plot_bgcolor": "#E5ECF6",
          "polar": {
           "angularaxis": {
            "gridcolor": "white",
            "linecolor": "white",
            "ticks": ""
           },
           "bgcolor": "#E5ECF6",
           "radialaxis": {
            "gridcolor": "white",
            "linecolor": "white",
            "ticks": ""
           }
          },
          "scene": {
           "xaxis": {
            "backgroundcolor": "#E5ECF6",
            "gridcolor": "white",
            "gridwidth": 2,
            "linecolor": "white",
            "showbackground": true,
            "ticks": "",
            "zerolinecolor": "white"
           },
           "yaxis": {
            "backgroundcolor": "#E5ECF6",
            "gridcolor": "white",
            "gridwidth": 2,
            "linecolor": "white",
            "showbackground": true,
            "ticks": "",
            "zerolinecolor": "white"
           },
           "zaxis": {
            "backgroundcolor": "#E5ECF6",
            "gridcolor": "white",
            "gridwidth": 2,
            "linecolor": "white",
            "showbackground": true,
            "ticks": "",
            "zerolinecolor": "white"
           }
          },
          "shapedefaults": {
           "line": {
            "color": "#2a3f5f"
           }
          },
          "ternary": {
           "aaxis": {
            "gridcolor": "white",
            "linecolor": "white",
            "ticks": ""
           },
           "baxis": {
            "gridcolor": "white",
            "linecolor": "white",
            "ticks": ""
           },
           "bgcolor": "#E5ECF6",
           "caxis": {
            "gridcolor": "white",
            "linecolor": "white",
            "ticks": ""
           }
          },
          "title": {
           "x": 0.05
          },
          "xaxis": {
           "automargin": true,
           "gridcolor": "white",
           "linecolor": "white",
           "ticks": "",
           "title": {
            "standoff": 15
           },
           "zerolinecolor": "white",
           "zerolinewidth": 2
          },
          "yaxis": {
           "automargin": true,
           "gridcolor": "white",
           "linecolor": "white",
           "ticks": "",
           "title": {
            "standoff": 15
           },
           "zerolinecolor": "white",
           "zerolinewidth": 2
          }
         }
        },
        "title": {
         "text": "Selected Countries: Portugal, United States"
        },
        "width": 1400,
        "xaxis": {
         "title": {
          "text": "GDP per Capita"
         }
        },
        "yaxis": {
         "title": {
          "text": "Gini Index"
         }
        }
       }
      }
     },
     "metadata": {},
     "output_type": "display_data"
    }
   ],
   "source": [
    "# JP 2024\n",
    "import pandas as pd\n",
    "import requests\n",
    "import plotly.graph_objects as go\n",
    "\n",
    "# Fetch the data\n",
    "df = pd.read_csv(\n",
    "    'https://ourworldindata.org/grapher/gini-coefficient-vs-gdp-per-capita-pip.csv?v=1&csvType=full&useColumnShortNames=true',\n",
    "    storage_options = {'User-Agent': 'Mozilla/5.0'}\n",
    ")\n",
    "df = df.rename(columns = {\n",
    "    'Year': 'year',\n",
    "    'ny_gdp_pcap_pp_kd': 'gdp',\n",
    "    'Entity': 'country'    \n",
    "    }\n",
    ")\n",
    "\n",
    "cols = ['country', 'year', 'gdp', 'gini']\n",
    "df = df.dropna(subset = cols)\n",
    "df = df[cols]\n",
    "df = df.sort_values(by = cols)\n",
    "df['gdp'] = df['gdp'] / 1000\n",
    "\n",
    "# Create a figure\n",
    "fig = go.Figure()\n",
    "\n",
    "# Add traces for each country\n",
    "countries = df['country'].unique()\n",
    "for country in countries:\n",
    "    data = df[df['country'] == country]\n",
    "    \n",
    "    fig.add_trace(go.Scatter(\n",
    "        x = data['gdp'],\n",
    "        y = data['gini'],\n",
    "        mode = 'lines+markers+text',\n",
    "        line = dict(shape = 'spline', smoothing = 0.1),\n",
    "        marker = dict(size = 12,  symbol= 'arrow-bar-up', angleref = 'previous'),\n",
    "        name = country,\n",
    "        hovertemplate = 'Year: %{text}<br>gdp: %{x:.1f} k$<br>Gini: %{y:.2f}',\n",
    "        text = data['year'],\n",
    "        textposition = 'top center'\n",
    "    )\n",
    ")\n",
    "\n",
    "# Update layout\n",
    "fig.update_layout(\n",
    "    width = 1400, height = 700,\n",
    "    xaxis_title = 'GDP per Capita',\n",
    "    yaxis_title = 'Gini Index'\n",
    ")\n",
    "\n",
    "fig.for_each_trace(lambda trace: trace.update(visible = 'legendonly') if trace.name not in ['Portugal', 'United States'] else ())\n",
    "\n",
    "# Function to update the title based on visible traces\n",
    "def update_title(fig):\n",
    "    visible_traces = [trace.name for trace in fig.data if trace.visible is True or trace.visible == None]\n",
    "    fig.update_layout(title='Selected Countries: ' + ', '.join(visible_traces))\n",
    "\n",
    "# Initial title update\n",
    "update_title(fig)\n",
    "\n",
    "# Show the plot\n",
    "fig.show()"
   ]
  }
 ],
 "metadata": {
  "kernelspec": {
   "display_name": "base",
   "language": "python",
   "name": "python3"
  },
  "language_info": {
   "codemirror_mode": {
    "name": "ipython",
    "version": 3
   },
   "file_extension": ".py",
   "mimetype": "text/x-python",
   "name": "python",
   "nbconvert_exporter": "python",
   "pygments_lexer": "ipython3",
   "version": "3.11.4"
  }
 },
 "nbformat": 4,
 "nbformat_minor": 2
}
